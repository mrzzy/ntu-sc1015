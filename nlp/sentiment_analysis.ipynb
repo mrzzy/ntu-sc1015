{
  "cells": [
    {
      "cell_type": "markdown",
      "metadata": {},
      "source": [
        "# Do closed businesses have more negative reviews?"
      ]
    },
    {
      "cell_type": "code",
      "execution_count": 1,
      "metadata": {
        "colab": {
          "base_uri": "https://localhost:8080/"
        },
        "id": "545MFJ_o_5St",
        "outputId": "93093e11-b086-47ba-892a-74152b6cfab3"
      },
      "outputs": [
        {
          "name": "stdout",
          "output_type": "stream",
          "text": [
            "Requirement already satisfied: flair==0.13.1 in /Users/joeylim/miniconda3/envs/sc1015/lib/python3.11/site-packages (0.13.1)\n",
            "Requirement already satisfied: boto3>=1.20.27 in /Users/joeylim/miniconda3/envs/sc1015/lib/python3.11/site-packages (from flair==0.13.1) (1.34.68)\n",
            "Requirement already satisfied: bpemb>=0.3.2 in /Users/joeylim/miniconda3/envs/sc1015/lib/python3.11/site-packages (from flair==0.13.1) (0.3.5)\n",
            "Requirement already satisfied: conllu>=4.0 in /Users/joeylim/miniconda3/envs/sc1015/lib/python3.11/site-packages (from flair==0.13.1) (4.5.3)\n",
            "Requirement already satisfied: deprecated>=1.2.13 in /Users/joeylim/miniconda3/envs/sc1015/lib/python3.11/site-packages (from flair==0.13.1) (1.2.14)\n",
            "Requirement already satisfied: ftfy>=6.1.0 in /Users/joeylim/miniconda3/envs/sc1015/lib/python3.11/site-packages (from flair==0.13.1) (6.2.0)\n",
            "Requirement already satisfied: gdown>=4.4.0 in /Users/joeylim/miniconda3/envs/sc1015/lib/python3.11/site-packages (from flair==0.13.1) (5.1.0)\n",
            "Requirement already satisfied: gensim>=4.2.0 in /Users/joeylim/miniconda3/envs/sc1015/lib/python3.11/site-packages (from flair==0.13.1) (4.3.2)\n",
            "Requirement already satisfied: huggingface-hub>=0.10.0 in /Users/joeylim/miniconda3/envs/sc1015/lib/python3.11/site-packages (from flair==0.13.1) (0.21.4)\n",
            "Requirement already satisfied: janome>=0.4.2 in /Users/joeylim/miniconda3/envs/sc1015/lib/python3.11/site-packages (from flair==0.13.1) (0.5.0)\n",
            "Requirement already satisfied: langdetect>=1.0.9 in /Users/joeylim/miniconda3/envs/sc1015/lib/python3.11/site-packages (from flair==0.13.1) (1.0.9)\n",
            "Requirement already satisfied: lxml>=4.8.0 in /Users/joeylim/miniconda3/envs/sc1015/lib/python3.11/site-packages (from flair==0.13.1) (4.9.3)\n",
            "Requirement already satisfied: matplotlib>=2.2.3 in /Users/joeylim/miniconda3/envs/sc1015/lib/python3.11/site-packages (from flair==0.13.1) (3.8.0)\n",
            "Requirement already satisfied: more-itertools>=8.13.0 in /Users/joeylim/miniconda3/envs/sc1015/lib/python3.11/site-packages (from flair==0.13.1) (10.2.0)\n",
            "Requirement already satisfied: mpld3>=0.3 in /Users/joeylim/miniconda3/envs/sc1015/lib/python3.11/site-packages (from flair==0.13.1) (0.5.10)\n",
            "Requirement already satisfied: pptree>=3.1 in /Users/joeylim/miniconda3/envs/sc1015/lib/python3.11/site-packages (from flair==0.13.1) (3.1)\n",
            "Requirement already satisfied: python-dateutil>=2.8.2 in /Users/joeylim/miniconda3/envs/sc1015/lib/python3.11/site-packages (from flair==0.13.1) (2.8.2)\n",
            "Requirement already satisfied: pytorch-revgrad>=0.2.0 in /Users/joeylim/miniconda3/envs/sc1015/lib/python3.11/site-packages (from flair==0.13.1) (0.2.0)\n",
            "Requirement already satisfied: regex>=2022.1.18 in /Users/joeylim/miniconda3/envs/sc1015/lib/python3.11/site-packages (from flair==0.13.1) (2023.10.3)\n",
            "Requirement already satisfied: scikit-learn>=1.0.2 in /Users/joeylim/miniconda3/envs/sc1015/lib/python3.11/site-packages (from flair==0.13.1) (1.3.0)\n",
            "Requirement already satisfied: segtok>=1.5.11 in /Users/joeylim/miniconda3/envs/sc1015/lib/python3.11/site-packages (from flair==0.13.1) (1.5.11)\n",
            "Requirement already satisfied: sqlitedict>=2.0.0 in /Users/joeylim/miniconda3/envs/sc1015/lib/python3.11/site-packages (from flair==0.13.1) (2.1.0)\n",
            "Requirement already satisfied: tabulate>=0.8.10 in /Users/joeylim/miniconda3/envs/sc1015/lib/python3.11/site-packages (from flair==0.13.1) (0.9.0)\n",
            "Requirement already satisfied: torch!=1.8,>=1.5.0 in /Users/joeylim/miniconda3/envs/sc1015/lib/python3.11/site-packages (from flair==0.13.1) (2.2.1)\n",
            "Requirement already satisfied: tqdm>=4.63.0 in /Users/joeylim/miniconda3/envs/sc1015/lib/python3.11/site-packages (from flair==0.13.1) (4.65.0)\n",
            "Requirement already satisfied: transformer-smaller-training-vocab>=0.2.3 in /Users/joeylim/miniconda3/envs/sc1015/lib/python3.11/site-packages (from flair==0.13.1) (0.3.3)\n",
            "Requirement already satisfied: transformers<5.0.0,>=4.18.0 in /Users/joeylim/miniconda3/envs/sc1015/lib/python3.11/site-packages (from transformers[sentencepiece]<5.0.0,>=4.18.0->flair==0.13.1) (4.39.0)\n",
            "Requirement already satisfied: urllib3<2.0.0,>=1.0.0 in /Users/joeylim/miniconda3/envs/sc1015/lib/python3.11/site-packages (from flair==0.13.1) (1.26.18)\n",
            "Requirement already satisfied: wikipedia-api>=0.5.7 in /Users/joeylim/miniconda3/envs/sc1015/lib/python3.11/site-packages (from flair==0.13.1) (0.6.0)\n",
            "Requirement already satisfied: semver<4.0.0,>=3.0.0 in /Users/joeylim/miniconda3/envs/sc1015/lib/python3.11/site-packages (from flair==0.13.1) (3.0.2)\n",
            "Requirement already satisfied: botocore<1.35.0,>=1.34.68 in /Users/joeylim/miniconda3/envs/sc1015/lib/python3.11/site-packages (from boto3>=1.20.27->flair==0.13.1) (1.34.68)\n",
            "Requirement already satisfied: jmespath<2.0.0,>=0.7.1 in /Users/joeylim/miniconda3/envs/sc1015/lib/python3.11/site-packages (from boto3>=1.20.27->flair==0.13.1) (1.0.1)\n",
            "Requirement already satisfied: s3transfer<0.11.0,>=0.10.0 in /Users/joeylim/miniconda3/envs/sc1015/lib/python3.11/site-packages (from boto3>=1.20.27->flair==0.13.1) (0.10.1)\n",
            "Requirement already satisfied: numpy in /Users/joeylim/miniconda3/envs/sc1015/lib/python3.11/site-packages (from bpemb>=0.3.2->flair==0.13.1) (1.24.3)\n",
            "Requirement already satisfied: requests in /Users/joeylim/miniconda3/envs/sc1015/lib/python3.11/site-packages (from bpemb>=0.3.2->flair==0.13.1) (2.31.0)\n",
            "Requirement already satisfied: sentencepiece in /Users/joeylim/miniconda3/envs/sc1015/lib/python3.11/site-packages (from bpemb>=0.3.2->flair==0.13.1) (0.1.99)\n",
            "Requirement already satisfied: wrapt<2,>=1.10 in /Users/joeylim/miniconda3/envs/sc1015/lib/python3.11/site-packages (from deprecated>=1.2.13->flair==0.13.1) (1.16.0)\n",
            "Requirement already satisfied: wcwidth<0.3.0,>=0.2.12 in /Users/joeylim/miniconda3/envs/sc1015/lib/python3.11/site-packages (from ftfy>=6.1.0->flair==0.13.1) (0.2.13)\n",
            "Requirement already satisfied: beautifulsoup4 in /Users/joeylim/miniconda3/envs/sc1015/lib/python3.11/site-packages (from gdown>=4.4.0->flair==0.13.1) (4.12.2)\n",
            "Requirement already satisfied: filelock in /Users/joeylim/miniconda3/envs/sc1015/lib/python3.11/site-packages (from gdown>=4.4.0->flair==0.13.1) (3.13.1)\n",
            "Requirement already satisfied: scipy>=1.7.0 in /Users/joeylim/miniconda3/envs/sc1015/lib/python3.11/site-packages (from gensim>=4.2.0->flair==0.13.1) (1.11.4)\n",
            "Requirement already satisfied: smart-open>=1.8.1 in /Users/joeylim/miniconda3/envs/sc1015/lib/python3.11/site-packages (from gensim>=4.2.0->flair==0.13.1) (7.0.3)\n",
            "Requirement already satisfied: fsspec>=2023.5.0 in /Users/joeylim/miniconda3/envs/sc1015/lib/python3.11/site-packages (from huggingface-hub>=0.10.0->flair==0.13.1) (2024.3.1)\n",
            "Requirement already satisfied: pyyaml>=5.1 in /Users/joeylim/miniconda3/envs/sc1015/lib/python3.11/site-packages (from huggingface-hub>=0.10.0->flair==0.13.1) (6.0.1)\n",
            "Requirement already satisfied: typing-extensions>=3.7.4.3 in /Users/joeylim/miniconda3/envs/sc1015/lib/python3.11/site-packages (from huggingface-hub>=0.10.0->flair==0.13.1) (4.9.0)\n",
            "Requirement already satisfied: packaging>=20.9 in /Users/joeylim/miniconda3/envs/sc1015/lib/python3.11/site-packages (from huggingface-hub>=0.10.0->flair==0.13.1) (23.2)\n",
            "Requirement already satisfied: six in /Users/joeylim/miniconda3/envs/sc1015/lib/python3.11/site-packages (from langdetect>=1.0.9->flair==0.13.1) (1.16.0)\n",
            "Requirement already satisfied: contourpy>=1.0.1 in /Users/joeylim/miniconda3/envs/sc1015/lib/python3.11/site-packages (from matplotlib>=2.2.3->flair==0.13.1) (1.2.0)\n",
            "Requirement already satisfied: cycler>=0.10 in /Users/joeylim/miniconda3/envs/sc1015/lib/python3.11/site-packages (from matplotlib>=2.2.3->flair==0.13.1) (0.11.0)\n",
            "Requirement already satisfied: fonttools>=4.22.0 in /Users/joeylim/miniconda3/envs/sc1015/lib/python3.11/site-packages (from matplotlib>=2.2.3->flair==0.13.1) (4.25.0)\n",
            "Requirement already satisfied: kiwisolver>=1.0.1 in /Users/joeylim/miniconda3/envs/sc1015/lib/python3.11/site-packages (from matplotlib>=2.2.3->flair==0.13.1) (1.4.4)\n",
            "Requirement already satisfied: pillow>=6.2.0 in /Users/joeylim/miniconda3/envs/sc1015/lib/python3.11/site-packages (from matplotlib>=2.2.3->flair==0.13.1) (10.2.0)\n",
            "Requirement already satisfied: pyparsing>=2.3.1 in /Users/joeylim/miniconda3/envs/sc1015/lib/python3.11/site-packages (from matplotlib>=2.2.3->flair==0.13.1) (3.0.9)\n",
            "Requirement already satisfied: jinja2 in /Users/joeylim/miniconda3/envs/sc1015/lib/python3.11/site-packages (from mpld3>=0.3->flair==0.13.1) (3.1.3)\n",
            "Requirement already satisfied: joblib>=1.1.1 in /Users/joeylim/miniconda3/envs/sc1015/lib/python3.11/site-packages (from scikit-learn>=1.0.2->flair==0.13.1) (1.2.0)\n",
            "Requirement already satisfied: threadpoolctl>=2.0.0 in /Users/joeylim/miniconda3/envs/sc1015/lib/python3.11/site-packages (from scikit-learn>=1.0.2->flair==0.13.1) (2.2.0)\n",
            "Requirement already satisfied: sympy in /Users/joeylim/miniconda3/envs/sc1015/lib/python3.11/site-packages (from torch!=1.8,>=1.5.0->flair==0.13.1) (1.12)\n",
            "Requirement already satisfied: networkx in /Users/joeylim/miniconda3/envs/sc1015/lib/python3.11/site-packages (from torch!=1.8,>=1.5.0->flair==0.13.1) (3.2.1)\n",
            "Requirement already satisfied: tokenizers<0.19,>=0.14 in /Users/joeylim/miniconda3/envs/sc1015/lib/python3.11/site-packages (from transformers<5.0.0,>=4.18.0->transformers[sentencepiece]<5.0.0,>=4.18.0->flair==0.13.1) (0.15.2)\n",
            "Requirement already satisfied: safetensors>=0.4.1 in /Users/joeylim/miniconda3/envs/sc1015/lib/python3.11/site-packages (from transformers<5.0.0,>=4.18.0->transformers[sentencepiece]<5.0.0,>=4.18.0->flair==0.13.1) (0.4.2)\n",
            "Requirement already satisfied: protobuf in /Users/joeylim/miniconda3/envs/sc1015/lib/python3.11/site-packages (from transformers[sentencepiece]<5.0.0,>=4.18.0->flair==0.13.1) (5.26.0)\n",
            "Requirement already satisfied: accelerate>=0.21.0 in /Users/joeylim/miniconda3/envs/sc1015/lib/python3.11/site-packages (from transformers[torch]<5.0,>=4.1->transformer-smaller-training-vocab>=0.2.3->flair==0.13.1) (0.28.0)\n",
            "Requirement already satisfied: soupsieve>1.2 in /Users/joeylim/miniconda3/envs/sc1015/lib/python3.11/site-packages (from beautifulsoup4->gdown>=4.4.0->flair==0.13.1) (2.5)\n",
            "Requirement already satisfied: MarkupSafe>=2.0 in /Users/joeylim/miniconda3/envs/sc1015/lib/python3.11/site-packages (from jinja2->mpld3>=0.3->flair==0.13.1) (2.1.3)\n",
            "Requirement already satisfied: charset-normalizer<4,>=2 in /Users/joeylim/miniconda3/envs/sc1015/lib/python3.11/site-packages (from requests->bpemb>=0.3.2->flair==0.13.1) (2.0.4)\n",
            "Requirement already satisfied: idna<4,>=2.5 in /Users/joeylim/miniconda3/envs/sc1015/lib/python3.11/site-packages (from requests->bpemb>=0.3.2->flair==0.13.1) (3.4)\n",
            "Requirement already satisfied: certifi>=2017.4.17 in /Users/joeylim/miniconda3/envs/sc1015/lib/python3.11/site-packages (from requests->bpemb>=0.3.2->flair==0.13.1) (2024.2.2)\n",
            "Requirement already satisfied: PySocks!=1.5.7,>=1.5.6 in /Users/joeylim/miniconda3/envs/sc1015/lib/python3.11/site-packages (from requests[socks]->gdown>=4.4.0->flair==0.13.1) (1.7.1)\n",
            "Requirement already satisfied: mpmath>=0.19 in /Users/joeylim/miniconda3/envs/sc1015/lib/python3.11/site-packages (from sympy->torch!=1.8,>=1.5.0->flair==0.13.1) (1.3.0)\n",
            "Requirement already satisfied: psutil in /Users/joeylim/miniconda3/envs/sc1015/lib/python3.11/site-packages (from accelerate>=0.21.0->transformers[torch]<5.0,>=4.1->transformer-smaller-training-vocab>=0.2.3->flair==0.13.1) (5.9.0)\n",
            "Note: you may need to restart the kernel to use updated packages.\n"
          ]
        }
      ],
      "source": [
        "%pip install flair==0.13.1"
      ]
    },
    {
      "cell_type": "code",
      "execution_count": 2,
      "metadata": {
        "id": "1Ou_01ebIwMY"
      },
      "outputs": [
        {
          "name": "stderr",
          "output_type": "stream",
          "text": [
            "/Users/joeylim/miniconda3/envs/sc1015/lib/python3.11/site-packages/tqdm/auto.py:21: TqdmWarning: IProgress not found. Please update jupyter and ipywidgets. See https://ipywidgets.readthedocs.io/en/stable/user_install.html\n",
            "  from .autonotebook import tqdm as notebook_tqdm\n"
          ]
        }
      ],
      "source": [
        "import pandas as pd\n",
        "import seaborn as sb\n",
        "import matplotlib.pyplot as plt # we only need pyplot\n",
        "sb.set_theme()\n",
        "\n",
        "from flair.data import Sentence\n",
        "from flair.nn import Classifier"
      ]
    },
    {
      "cell_type": "code",
      "execution_count": 3,
      "metadata": {
        "id": "csV36ZksJQKl"
      },
      "outputs": [
        {
          "data": {
            "text/html": [
              "<div>\n",
              "<style scoped>\n",
              "    .dataframe tbody tr th:only-of-type {\n",
              "        vertical-align: middle;\n",
              "    }\n",
              "\n",
              "    .dataframe tbody tr th {\n",
              "        vertical-align: top;\n",
              "    }\n",
              "\n",
              "    .dataframe thead th {\n",
              "        text-align: right;\n",
              "    }\n",
              "</style>\n",
              "<table border=\"1\" class=\"dataframe\">\n",
              "  <thead>\n",
              "    <tr style=\"text-align: right;\">\n",
              "      <th></th>\n",
              "      <th>user_id</th>\n",
              "      <th>business_id</th>\n",
              "      <th>cool</th>\n",
              "      <th>date</th>\n",
              "      <th>funny</th>\n",
              "      <th>review_id</th>\n",
              "      <th>stars</th>\n",
              "      <th>text</th>\n",
              "      <th>useful</th>\n",
              "      <th>business_address</th>\n",
              "      <th>...</th>\n",
              "      <th>user_compliment_writer</th>\n",
              "      <th>user_cool</th>\n",
              "      <th>user_elite</th>\n",
              "      <th>user_fans</th>\n",
              "      <th>user_friends</th>\n",
              "      <th>user_funny</th>\n",
              "      <th>user_name</th>\n",
              "      <th>user_review_count</th>\n",
              "      <th>user_useful</th>\n",
              "      <th>user_yelping_since</th>\n",
              "    </tr>\n",
              "  </thead>\n",
              "  <tbody>\n",
              "    <tr>\n",
              "      <th>0</th>\n",
              "      <td>-3-GR6zLPQUQXC02xE5QaA</td>\n",
              "      <td>Kfaq9cuyeXHkzWwL39jUWw</td>\n",
              "      <td>0</td>\n",
              "      <td>2022-01-08</td>\n",
              "      <td>0</td>\n",
              "      <td>5teG7qQ0oxQNRhXTkTV-AA</td>\n",
              "      <td>5.0</td>\n",
              "      <td>If you leave hungry, it's your own fault. Ther...</td>\n",
              "      <td>0</td>\n",
              "      <td>311 Salem Pl</td>\n",
              "      <td>...</td>\n",
              "      <td>0</td>\n",
              "      <td>5</td>\n",
              "      <td></td>\n",
              "      <td>0</td>\n",
              "      <td>vm2DaLbzM9KxVjDU6gmMRQ, H5fheR7XkbgdOhUD2KijTw...</td>\n",
              "      <td>3</td>\n",
              "      <td>Tracey</td>\n",
              "      <td>41</td>\n",
              "      <td>14</td>\n",
              "      <td>2016-01-25 22:20:02</td>\n",
              "    </tr>\n",
              "    <tr>\n",
              "      <th>1</th>\n",
              "      <td>-5Qgwxo8lTJQdadtJY879w</td>\n",
              "      <td>9CRWWbw3iOo4-9FMAO6nKw</td>\n",
              "      <td>0</td>\n",
              "      <td>2021-12-31</td>\n",
              "      <td>0</td>\n",
              "      <td>yhJplqlngFVTFk5W_velmQ</td>\n",
              "      <td>5.0</td>\n",
              "      <td>They where able to provide very good sandwiche...</td>\n",
              "      <td>0</td>\n",
              "      <td>1302 Magazine St</td>\n",
              "      <td>...</td>\n",
              "      <td>0</td>\n",
              "      <td>0</td>\n",
              "      <td></td>\n",
              "      <td>0</td>\n",
              "      <td>None</td>\n",
              "      <td>0</td>\n",
              "      <td>Mike</td>\n",
              "      <td>4</td>\n",
              "      <td>1</td>\n",
              "      <td>2020-10-28 01:46:43</td>\n",
              "    </tr>\n",
              "    <tr>\n",
              "      <th>2</th>\n",
              "      <td>-5Qgwxo8lTJQdadtJY879w</td>\n",
              "      <td>SJIQFKTW6uUsOo29w9IHxw</td>\n",
              "      <td>0</td>\n",
              "      <td>2021-12-31</td>\n",
              "      <td>0</td>\n",
              "      <td>Q90M8AHlNxUVL0ii7MAj1w</td>\n",
              "      <td>5.0</td>\n",
              "      <td>Was able to have very tasty po boy alligator a...</td>\n",
              "      <td>0</td>\n",
              "      <td>411 Bourbon St</td>\n",
              "      <td>...</td>\n",
              "      <td>0</td>\n",
              "      <td>0</td>\n",
              "      <td></td>\n",
              "      <td>0</td>\n",
              "      <td>None</td>\n",
              "      <td>0</td>\n",
              "      <td>Mike</td>\n",
              "      <td>4</td>\n",
              "      <td>1</td>\n",
              "      <td>2020-10-28 01:46:43</td>\n",
              "    </tr>\n",
              "    <tr>\n",
              "      <th>3</th>\n",
              "      <td>-6J6EFoigdncrbw586jAQg</td>\n",
              "      <td>gP_oWJykA2RocIs_GurKWQ</td>\n",
              "      <td>0</td>\n",
              "      <td>2021-11-20</td>\n",
              "      <td>0</td>\n",
              "      <td>FkuvWGHoqveIKmG2JjuEXg</td>\n",
              "      <td>5.0</td>\n",
              "      <td>While shopping in the area, we decided to try ...</td>\n",
              "      <td>0</td>\n",
              "      <td>2000 Mallory Ln, Ste 615</td>\n",
              "      <td>...</td>\n",
              "      <td>0</td>\n",
              "      <td>0</td>\n",
              "      <td></td>\n",
              "      <td>0</td>\n",
              "      <td>7SwgKCa2IYP2tmxxDpuwaw, vwRUqCoINjuBdozwgvVCxA...</td>\n",
              "      <td>0</td>\n",
              "      <td>Paige</td>\n",
              "      <td>1</td>\n",
              "      <td>0</td>\n",
              "      <td>2021-11-20 18:40:41</td>\n",
              "    </tr>\n",
              "    <tr>\n",
              "      <th>4</th>\n",
              "      <td>-9q7GFmibqq3E6W0Bw3_jQ</td>\n",
              "      <td>gJSNa1bxwtY0dm1t-dh38w</td>\n",
              "      <td>0</td>\n",
              "      <td>2022-01-13</td>\n",
              "      <td>0</td>\n",
              "      <td>P7zB0L55i7zwFt3vjAa8lw</td>\n",
              "      <td>1.0</td>\n",
              "      <td>Food was horrible. Hot and sour soup had no fl...</td>\n",
              "      <td>0</td>\n",
              "      <td>219 Westshore Plz</td>\n",
              "      <td>...</td>\n",
              "      <td>0</td>\n",
              "      <td>0</td>\n",
              "      <td></td>\n",
              "      <td>0</td>\n",
              "      <td>BtUw263un2hRPQ7OvEF-8g, gh7JzS4v_xiTGUOG2kjLkQ...</td>\n",
              "      <td>0</td>\n",
              "      <td>Diana</td>\n",
              "      <td>2</td>\n",
              "      <td>5</td>\n",
              "      <td>2011-01-21 21:14:45</td>\n",
              "    </tr>\n",
              "  </tbody>\n",
              "</table>\n",
              "<p>5 rows × 43 columns</p>\n",
              "</div>"
            ],
            "text/plain": [
              "                  user_id             business_id  cool        date  funny  \\\n",
              "0  -3-GR6zLPQUQXC02xE5QaA  Kfaq9cuyeXHkzWwL39jUWw     0  2022-01-08      0   \n",
              "1  -5Qgwxo8lTJQdadtJY879w  9CRWWbw3iOo4-9FMAO6nKw     0  2021-12-31      0   \n",
              "2  -5Qgwxo8lTJQdadtJY879w  SJIQFKTW6uUsOo29w9IHxw     0  2021-12-31      0   \n",
              "3  -6J6EFoigdncrbw586jAQg  gP_oWJykA2RocIs_GurKWQ     0  2021-11-20      0   \n",
              "4  -9q7GFmibqq3E6W0Bw3_jQ  gJSNa1bxwtY0dm1t-dh38w     0  2022-01-13      0   \n",
              "\n",
              "                review_id  stars  \\\n",
              "0  5teG7qQ0oxQNRhXTkTV-AA    5.0   \n",
              "1  yhJplqlngFVTFk5W_velmQ    5.0   \n",
              "2  Q90M8AHlNxUVL0ii7MAj1w    5.0   \n",
              "3  FkuvWGHoqveIKmG2JjuEXg    5.0   \n",
              "4  P7zB0L55i7zwFt3vjAa8lw    1.0   \n",
              "\n",
              "                                                text  useful  \\\n",
              "0  If you leave hungry, it's your own fault. Ther...       0   \n",
              "1  They where able to provide very good sandwiche...       0   \n",
              "2  Was able to have very tasty po boy alligator a...       0   \n",
              "3  While shopping in the area, we decided to try ...       0   \n",
              "4  Food was horrible. Hot and sour soup had no fl...       0   \n",
              "\n",
              "           business_address  ... user_compliment_writer user_cool user_elite  \\\n",
              "0              311 Salem Pl  ...                      0         5              \n",
              "1          1302 Magazine St  ...                      0         0              \n",
              "2            411 Bourbon St  ...                      0         0              \n",
              "3  2000 Mallory Ln, Ste 615  ...                      0         0              \n",
              "4         219 Westshore Plz  ...                      0         0              \n",
              "\n",
              "  user_fans                                       user_friends  user_funny  \\\n",
              "0         0  vm2DaLbzM9KxVjDU6gmMRQ, H5fheR7XkbgdOhUD2KijTw...           3   \n",
              "1         0                                               None           0   \n",
              "2         0                                               None           0   \n",
              "3         0  7SwgKCa2IYP2tmxxDpuwaw, vwRUqCoINjuBdozwgvVCxA...           0   \n",
              "4         0  BtUw263un2hRPQ7OvEF-8g, gh7JzS4v_xiTGUOG2kjLkQ...           0   \n",
              "\n",
              "   user_name user_review_count user_useful   user_yelping_since  \n",
              "0     Tracey                41          14  2016-01-25 22:20:02  \n",
              "1       Mike                 4           1  2020-10-28 01:46:43  \n",
              "2       Mike                 4           1  2020-10-28 01:46:43  \n",
              "3      Paige                 1           0  2021-11-20 18:40:41  \n",
              "4      Diana                 2           5  2011-01-21 21:14:45  \n",
              "\n",
              "[5 rows x 43 columns]"
            ]
          },
          "execution_count": 3,
          "metadata": {},
          "output_type": "execute_result"
        }
      ],
      "source": [
        "reviews = pd.read_parquet(\"https://ntu-sc1015-yelp.s3.ap-southeast-1.amazonaws.com/yelp_reviews_inner.parquet/part-00000-tid-2558117656403601659-b3029da0-4c99-4b8b-8c7a-cdb7db9371e5-1209-1-c000.snappy.parquet\")\n",
        "reviews.head()"
      ]
    },
    {
      "cell_type": "code",
      "execution_count": 4,
      "metadata": {
        "colab": {
          "base_uri": "https://localhost:8080/"
        },
        "id": "Hi4VF63L0tDu",
        "outputId": "e9ab7da6-5824-4767-f924-9d811c3dd26b"
      },
      "outputs": [
        {
          "data": {
            "text/plain": [
              "(99967, 43)"
            ]
          },
          "execution_count": 4,
          "metadata": {},
          "output_type": "execute_result"
        }
      ],
      "source": [
        "reviews.shape"
      ]
    },
    {
      "cell_type": "markdown",
      "metadata": {
        "id": "kf1oBM1GMrBB"
      },
      "source": [
        "# EDA on Reviews"
      ]
    },
    {
      "cell_type": "code",
      "execution_count": 5,
      "metadata": {
        "id": "Vd0amQjjPdzw"
      },
      "outputs": [],
      "source": [
        "import re\n",
        "\n",
        "def count_words(text):\n",
        "    words = re.findall(r'\\b\\w+(?:\\'\\w+)?\\b', text)\n",
        "    # Count number of words\n",
        "    word_count = len(words)\n",
        "    return word_count\n"
      ]
    },
    {
      "cell_type": "markdown",
      "metadata": {
        "id": "lb8IDWPoMyhg"
      },
      "source": [
        "### Length of Reviews based on word count"
      ]
    },
    {
      "cell_type": "code",
      "execution_count": 6,
      "metadata": {
        "colab": {
          "base_uri": "https://localhost:8080/",
          "height": 1000
        },
        "id": "EIdUACB2Mx6u",
        "outputId": "7f32ecd9-e938-49e7-ea10-5f3bba2d2957"
      },
      "outputs": [
        {
          "data": {
            "text/html": [
              "<div>\n",
              "<style scoped>\n",
              "    .dataframe tbody tr th:only-of-type {\n",
              "        vertical-align: middle;\n",
              "    }\n",
              "\n",
              "    .dataframe tbody tr th {\n",
              "        vertical-align: top;\n",
              "    }\n",
              "\n",
              "    .dataframe thead th {\n",
              "        text-align: right;\n",
              "    }\n",
              "</style>\n",
              "<table border=\"1\" class=\"dataframe\">\n",
              "  <thead>\n",
              "    <tr style=\"text-align: right;\">\n",
              "      <th></th>\n",
              "      <th>user_id</th>\n",
              "      <th>business_id</th>\n",
              "      <th>cool</th>\n",
              "      <th>date</th>\n",
              "      <th>funny</th>\n",
              "      <th>review_id</th>\n",
              "      <th>stars</th>\n",
              "      <th>text</th>\n",
              "      <th>useful</th>\n",
              "      <th>business_address</th>\n",
              "      <th>...</th>\n",
              "      <th>user_cool</th>\n",
              "      <th>user_elite</th>\n",
              "      <th>user_fans</th>\n",
              "      <th>user_friends</th>\n",
              "      <th>user_funny</th>\n",
              "      <th>user_name</th>\n",
              "      <th>user_review_count</th>\n",
              "      <th>user_useful</th>\n",
              "      <th>user_yelping_since</th>\n",
              "      <th>text_length</th>\n",
              "    </tr>\n",
              "  </thead>\n",
              "  <tbody>\n",
              "    <tr>\n",
              "      <th>0</th>\n",
              "      <td>-3-GR6zLPQUQXC02xE5QaA</td>\n",
              "      <td>Kfaq9cuyeXHkzWwL39jUWw</td>\n",
              "      <td>0</td>\n",
              "      <td>2022-01-08</td>\n",
              "      <td>0</td>\n",
              "      <td>5teG7qQ0oxQNRhXTkTV-AA</td>\n",
              "      <td>5.0</td>\n",
              "      <td>If you leave hungry, it's your own fault. There were 8 of us. All left happy and with leftovers. So good.</td>\n",
              "      <td>0</td>\n",
              "      <td>311 Salem Pl</td>\n",
              "      <td>...</td>\n",
              "      <td>5</td>\n",
              "      <td></td>\n",
              "      <td>0</td>\n",
              "      <td>vm2DaLbzM9KxVjDU6gmMRQ, H5fheR7XkbgdOhUD2KijTw, L_y0rqz7poPgbDRilOkdlQ, 7YrATh7GzZY6uQsVhJuhbQ, HyVrE0aWuh_vRkt0lSEN1Q, KFLKDO2lL2yqvHmAUcTJ7w, rxd0s-vUWp_8w6A97DleZg, sKAKB5xWsDcfKHKlvrGOIQ, ueKFDrWiM1Y2u7eOy04d4A, VXBW5169D7Ti2U7TwJjBHA, dcCxWTqnvaUTyqSxWuQf1g, lVT8q3he51X3Qg2E6lBquQ, SBpERfJfblzZLeiyptMz2w, aTNA2RxrrB2miAU1GMchYA, mTaf879VqxlSU31xRx6W3w, KOtQmZctTLVAm80rSzzJOQ, F0_MhbojiKvnmkxrnk7zEg, E5wkEkQFLJKoTZWb79Gnjg, QZuZSvuHtauLlUxcBtMp8g, 4Na52UNbHX-G8AeaH8WSlg, syUzpfLOxEHeuqsmi72W9A, jnMIgMQOxzUC9KMRS64fWg, yhXT_PYyYXos5dM7IrPCQg, uAOqMHULwFYICpCigSyK6A, ePl_fNcA2ABvS5BUYo0C6w, JUyde69wO2oC4ozeZGzKCA, JBjBf-8Gsa9vyx4yml1PZw, b2sMN0QeYyQp_iYPIb0yuQ, rOkUuBginV3Sr61vtxd7Qw, 6r9TBZlC_V1BD4vTzlKq8w, bmED5WuWAZrI8IGtVXXNpQ, KqOGONdFAo_eSdGnc6ruIg, G-zPuiL2URu5T_wJIwSXDw, ZwSJ5BVmMtJHcXQDfh-PyQ, to-ni2ifG9j6iwtq7E50ug, bsPcsyUSBg_aemjHCMnbDw, IWvleAnnjbelSV8aN_qHEg, sXKxvsHLqk88uyhK728kEg, uYuiyQD0qpVRjrac-QQBZA, OFe73cPte5Enk0rcawH0bw, h-yrJNTNBV56NuA4WgRWtA, qkO8zTnAsF_ysffY9JzVjg, p1exgUVJiCpTpWo0WQcgFg, v3_fq-tKYkHyzDoL5fOkzw, dKwq3_Wj6GWFMlHmAzSq3g, JN_vF-Tfm3rB0zXzYBdv_Q, qrO2nLUggs3fImgAq83htw, _499yDvYdSM_V9wTf9dQrA, lMgbFSKDOC7yaw2SaZ12nw, cM3cR0nx-zMfd2CFIuGPYw, IAGF32FB5PnRzokuQRCmmQ, IyrwcLy3K4xw4eJjyOr8jw, l4PYiNU7_o2wcCI03CxTFQ, gUVCKXf1BTxKP7Kk-veNcg, XFRyd2Ne3EU60pDbO6Vwtg, 5szV9w9eZBz1Pyk3Nk2B4g, 6NKTtNa19gD9GcUhhmLnmA, M_MBF9Y38c79Ip2IobYxLg, LF1usk2K-FrDEaLlC1xoTA, m30ydvtdr8cFze_zF7ci3w, r4M2dQt82olDzIsrq4cKlg, wdRJ7OV0Ry1nL6NL9eybpQ, 8Vwj8ZnijPLR54OJqEbrJA, V3EZxvhj12ALj906ci-TcQ, yBQpEDMcvH64rnVUQo-khQ, 9FHU3oMSLKNaa-VZNrX5IQ, 2vekpPatwG8Vc56_MWj7JQ, jxFONPtDnRdKXGQqm_pTug, lGe8WhIjIU3qMM1LVlV-KQ, HZFbWnhdNUsSnLsX0YRm9Q, vLf7ntp7hWSKU8rsoU267w, OxQkyghx-KoX9oYTKM-Gqg, UV_ZtxTwCqKI4ADIRNzXnw, rTcJeiQpM6eGfyParz2mfA, 0jHj0Fd9SLswFzysF1dVbQ, 4IgUlh9dVii-3PYfJ6BKDw, rpnzkIDl8_K85SJOGbIZ_A, vcuN-CkKB4Q5X992LonGgA, Im2LKyCwgJkId3RjIcGUJQ, KIIX4Dub9V-8C7amT4dmuw, D3oaQUerBFj-PSUi9xuGQA, vVNbM6tJC58Xzxl-uzvPUQ, 3xFYdpGpqog3jHnW9BwvbQ, KltR5rCVlRvPnMKCglH4pw, OV0HHIQSw2eC88tQBeDwDQ, tXQcH_xXa6uacDoXWdMpMQ, H5UlDj4yTyYuDukYBpE3-g, 949TOANUSLHncVLV8l1lRw, mpU2eWzjPBhm3yLYlbzOBA, 26Ne7gFJJuMN_Plyo5faRA, cthGBGVvkBMNEiNGxLaXBQ, eyiDUqHoyNttZ2HuqcKOUQ, E2_y87YAB-2_Y9kU0Dh8Qw, f67tQlYtKH3_EaAGZbp9aw, gr8NiB4bSlRh-iiFqsyN1w</td>\n",
              "      <td>3</td>\n",
              "      <td>Tracey</td>\n",
              "      <td>41</td>\n",
              "      <td>14</td>\n",
              "      <td>2016-01-25 22:20:02</td>\n",
              "      <td>21</td>\n",
              "    </tr>\n",
              "    <tr>\n",
              "      <th>1</th>\n",
              "      <td>-5Qgwxo8lTJQdadtJY879w</td>\n",
              "      <td>9CRWWbw3iOo4-9FMAO6nKw</td>\n",
              "      <td>0</td>\n",
              "      <td>2021-12-31</td>\n",
              "      <td>0</td>\n",
              "      <td>yhJplqlngFVTFk5W_velmQ</td>\n",
              "      <td>5.0</td>\n",
              "      <td>They where able to provide very good sandwiches, paninis, burgers for a group of 6 adults. Everyone was very happy with there meal and drinks. Would definitely recommend</td>\n",
              "      <td>0</td>\n",
              "      <td>1302 Magazine St</td>\n",
              "      <td>...</td>\n",
              "      <td>0</td>\n",
              "      <td></td>\n",
              "      <td>0</td>\n",
              "      <td>None</td>\n",
              "      <td>0</td>\n",
              "      <td>Mike</td>\n",
              "      <td>4</td>\n",
              "      <td>1</td>\n",
              "      <td>2020-10-28 01:46:43</td>\n",
              "      <td>28</td>\n",
              "    </tr>\n",
              "    <tr>\n",
              "      <th>2</th>\n",
              "      <td>-5Qgwxo8lTJQdadtJY879w</td>\n",
              "      <td>SJIQFKTW6uUsOo29w9IHxw</td>\n",
              "      <td>0</td>\n",
              "      <td>2021-12-31</td>\n",
              "      <td>0</td>\n",
              "      <td>Q90M8AHlNxUVL0ii7MAj1w</td>\n",
              "      <td>5.0</td>\n",
              "      <td>Was able to have very tasty po boy alligator and fish. Service at the bar was fabulous and quick</td>\n",
              "      <td>0</td>\n",
              "      <td>411 Bourbon St</td>\n",
              "      <td>...</td>\n",
              "      <td>0</td>\n",
              "      <td></td>\n",
              "      <td>0</td>\n",
              "      <td>None</td>\n",
              "      <td>0</td>\n",
              "      <td>Mike</td>\n",
              "      <td>4</td>\n",
              "      <td>1</td>\n",
              "      <td>2020-10-28 01:46:43</td>\n",
              "      <td>19</td>\n",
              "    </tr>\n",
              "    <tr>\n",
              "      <th>3</th>\n",
              "      <td>-6J6EFoigdncrbw586jAQg</td>\n",
              "      <td>gP_oWJykA2RocIs_GurKWQ</td>\n",
              "      <td>0</td>\n",
              "      <td>2021-11-20</td>\n",
              "      <td>0</td>\n",
              "      <td>FkuvWGHoqveIKmG2JjuEXg</td>\n",
              "      <td>5.0</td>\n",
              "      <td>While shopping in the area, we decided to try Yats for something different. Great choice! Love the food! Very authentic! The emphasis is on great service and great food. Definitely recommend this place!</td>\n",
              "      <td>0</td>\n",
              "      <td>2000 Mallory Ln, Ste 615</td>\n",
              "      <td>...</td>\n",
              "      <td>0</td>\n",
              "      <td></td>\n",
              "      <td>0</td>\n",
              "      <td>7SwgKCa2IYP2tmxxDpuwaw, vwRUqCoINjuBdozwgvVCxA, k5ERIPesXtlG_ZwV_4x8Cw, sTIXHM8SG2xsffbr4VFOKQ, xC7j_iQThneBHfrK0znCcw, JXUv61WzdqnSbZ-i-A5IvQ</td>\n",
              "      <td>0</td>\n",
              "      <td>Paige</td>\n",
              "      <td>1</td>\n",
              "      <td>0</td>\n",
              "      <td>2021-11-20 18:40:41</td>\n",
              "      <td>33</td>\n",
              "    </tr>\n",
              "    <tr>\n",
              "      <th>4</th>\n",
              "      <td>-9q7GFmibqq3E6W0Bw3_jQ</td>\n",
              "      <td>gJSNa1bxwtY0dm1t-dh38w</td>\n",
              "      <td>0</td>\n",
              "      <td>2022-01-13</td>\n",
              "      <td>0</td>\n",
              "      <td>P7zB0L55i7zwFt3vjAa8lw</td>\n",
              "      <td>1.0</td>\n",
              "      <td>Food was horrible. Hot and sour soup had no flavor. Egg rolls were both soggy and cold. 1/2 container of rice. Entree was tolerable. Nice packaging. Sure I paid a lot for that!</td>\n",
              "      <td>0</td>\n",
              "      <td>219 Westshore Plz</td>\n",
              "      <td>...</td>\n",
              "      <td>0</td>\n",
              "      <td></td>\n",
              "      <td>0</td>\n",
              "      <td>BtUw263un2hRPQ7OvEF-8g, gh7JzS4v_xiTGUOG2kjLkQ, UeBJYMraGqWmpl1BDm0C-Q, 0IAmYzSg3Nf1Ba_9TnfJVA, FddW-eOBqP_FRCQfrV0hjQ, FiXNrNPk3gc5o9Y5hb9Tkg, XjlU3T_U6RxWqezia0Iu-g, 5IvfMSnjSmUb4npwGOHi5Q, 3gSKHvG3ceKqFxD7M-9JWg, 5A-7v6lgJJJwBbAJrWFfVw, -mO72f_iYHPIiI_hahWDOg, Q6VE-ininPCkYbcoNtmOeA, itqBWpKr4AK4-YkVqRv70g, ll0ynbol7fC_IasQ5JZbcg, TQecV9pUik2DhkQFgiufZg, wZp7njMMYvHiXp4Jr8EbwQ</td>\n",
              "      <td>0</td>\n",
              "      <td>Diana</td>\n",
              "      <td>2</td>\n",
              "      <td>5</td>\n",
              "      <td>2011-01-21 21:14:45</td>\n",
              "      <td>34</td>\n",
              "    </tr>\n",
              "    <tr>\n",
              "      <th>5</th>\n",
              "      <td>-A62H3Q174V1rMWPzuV0JQ</td>\n",
              "      <td>CBWmYHLgtFrOJs7SCcQn0g</td>\n",
              "      <td>0</td>\n",
              "      <td>2021-12-12</td>\n",
              "      <td>0</td>\n",
              "      <td>RvhEer1-q2o1szn1yg9nHQ</td>\n",
              "      <td>5.0</td>\n",
              "      <td>Wonderful pizza place with some of the best pizzas in STL. Too bad I finished the pizza in under 3minutes . . yummy yummy. I was lucky to get In with no wait but if anyone has to then totally worth the wait. \\n\\nBest place to stop for a bite after the anheiser bush Christmas lights</td>\n",
              "      <td>0</td>\n",
              "      <td>1928 S 12th St</td>\n",
              "      <td>...</td>\n",
              "      <td>2</td>\n",
              "      <td></td>\n",
              "      <td>0</td>\n",
              "      <td>u_zzVbMepXxnCTFMq9lKOg, v-gj8IIrSBNE2zayzqCvdQ, IUEOhBBZY4Lt51iq1J8Y3w, 8fY90Y2gVULGnP0ysg71fA, SsCJjuyP5I4vExPghZ4tBQ, tfPDmxWmekt3g-ivlduttA, Z83odGaaF0GTI5sbspMynA, imKhoQ70GNxexK5EGb-UiQ, CutZX0YtAJl9SoABZqJoDQ, 8-EETt4pDjvGFCJt81ykDw, 6PyEr65USAvQNnqLSE_Jzg, bkOfNgpUFvhe6-IX4YFjQA, azCT0xEy69nRnEO96MZbxw, N2Ln8PQoE4ymI5Amvx6I-Q, QmEAjKPawIDos5ESwJYLbQ, XtWy5Gr1y8JbK-biao6zhg, TOFjcD2nQHBk1TuD7NyoCQ, UJG8gGvfCRUSXoJtjSl07w, g8MUnzySU0CY4Fuw_pICDg, gTFKA1M1o-SaSme5nGBS2Q, 40I1cHEO3ZGGct9uWUusyw, okyL6TKC30WdmgqWuWW6ww, 22OA-IYGZ1zrT_u7K1NUPQ, wSuX1HRtHFVSOUVKiTvrfQ, kvHyxdrWvUE9oFXN_5n8lg, TgaR27IqDDcoXeMtga1snw, gdD1cMpofs69VxA6pTN5Tg, -t7X8EHLLb7noFFuyX45Zg, mSfIWIOxmVjfADHBbYD7ZQ, c8uTEDKG0OaWeMvLeJLG-w, 4ysv6kwcoxnlbTGbnRLXmQ, nZUXEEG3mlslcVIYpaJH0w, OmsarvpjBQCL-PgUp7_gAg, iYeXV1_Wwv5ypNVAKvYslA, f46oRddA9s1q30N-gIJfUg, _bwAVUrcSKnOjSqYh5lc5g, dZPjt_Ebulf3V4J6EBhBbg, FOk3tgrFCAOBdG4xQfIwJQ, 8HNHB9pYC0fL95DrZEOr9Q, Xl6Zup7MWqiswimEQDoc0w, Too7wDK8qDBKJfCr1NkygQ, enITk9VEGFzRjEWMbe-C3g, rqTO3H7cID8ljhnzqmNmVA, x4H5ukzwl2EshZUCVBO5KQ, TxPNfr4uRZyQSWKnaWuZPA, Aca_XGIVneqXUROouiXvdA, n5NYbT4SXdF7TYU8gZ5iJg, L7WG6aDbz-MIdP6XpDfPgQ, -i29xBGigQMGLG8mTlanOA, A7MpGBBMZMg2U9mgVlLOHw, TwJDTIh_v_nSTVZBDVXB9Q, w6Nh34nW58Kv0_JMAHcPug, I0Fb_UJv5IY4XmagBBWMzQ, MGMjWItUvNXYlcTeIkEbpg, hWJ7z1H7tWaKwaprdoVJrQ, yWhb3_66r-WPVKFV56H4tQ, D9ewdVKzyI2ZydLuMrtnpQ, 7sX9UnJ8Iyk0JiwIoT-IWg, FFPf5a0LCu2B6VsEsbAJYg, xKtrFmyh8w_4MQxTVRhnQA, v6KgBLjpygfs7mVpGuvHzQ, X9Ks0_c9qY9YGTF41t0VQg</td>\n",
              "      <td>1</td>\n",
              "      <td>Richard</td>\n",
              "      <td>12</td>\n",
              "      <td>6</td>\n",
              "      <td>2017-11-05 12:59:36</td>\n",
              "      <td>54</td>\n",
              "    </tr>\n",
              "    <tr>\n",
              "      <th>6</th>\n",
              "      <td>-A62H3Q174V1rMWPzuV0JQ</td>\n",
              "      <td>CBWmYHLgtFrOJs7SCcQn0g</td>\n",
              "      <td>0</td>\n",
              "      <td>2021-12-01</td>\n",
              "      <td>0</td>\n",
              "      <td>43RycZ6bz9fLZ2wNZsXC-g</td>\n",
              "      <td>5.0</td>\n",
              "      <td>Simply wonderful. It was a cold winter evening. After a visit to the Budweiser brewery this should be the next stop for Anyone looking to grab a bite. Wish they had more starter options but the pizza's are amazing .\\n\\nAmazing Smoky flavored pizza with fresh veggies. Do keep in mind that it is a small place so do make reservations.</td>\n",
              "      <td>0</td>\n",
              "      <td>1928 S 12th St</td>\n",
              "      <td>...</td>\n",
              "      <td>2</td>\n",
              "      <td></td>\n",
              "      <td>0</td>\n",
              "      <td>u_zzVbMepXxnCTFMq9lKOg, v-gj8IIrSBNE2zayzqCvdQ, IUEOhBBZY4Lt51iq1J8Y3w, 8fY90Y2gVULGnP0ysg71fA, SsCJjuyP5I4vExPghZ4tBQ, tfPDmxWmekt3g-ivlduttA, Z83odGaaF0GTI5sbspMynA, imKhoQ70GNxexK5EGb-UiQ, CutZX0YtAJl9SoABZqJoDQ, 8-EETt4pDjvGFCJt81ykDw, 6PyEr65USAvQNnqLSE_Jzg, bkOfNgpUFvhe6-IX4YFjQA, azCT0xEy69nRnEO96MZbxw, N2Ln8PQoE4ymI5Amvx6I-Q, QmEAjKPawIDos5ESwJYLbQ, XtWy5Gr1y8JbK-biao6zhg, TOFjcD2nQHBk1TuD7NyoCQ, UJG8gGvfCRUSXoJtjSl07w, g8MUnzySU0CY4Fuw_pICDg, gTFKA1M1o-SaSme5nGBS2Q, 40I1cHEO3ZGGct9uWUusyw, okyL6TKC30WdmgqWuWW6ww, 22OA-IYGZ1zrT_u7K1NUPQ, wSuX1HRtHFVSOUVKiTvrfQ, kvHyxdrWvUE9oFXN_5n8lg, TgaR27IqDDcoXeMtga1snw, gdD1cMpofs69VxA6pTN5Tg, -t7X8EHLLb7noFFuyX45Zg, mSfIWIOxmVjfADHBbYD7ZQ, c8uTEDKG0OaWeMvLeJLG-w, 4ysv6kwcoxnlbTGbnRLXmQ, nZUXEEG3mlslcVIYpaJH0w, OmsarvpjBQCL-PgUp7_gAg, iYeXV1_Wwv5ypNVAKvYslA, f46oRddA9s1q30N-gIJfUg, _bwAVUrcSKnOjSqYh5lc5g, dZPjt_Ebulf3V4J6EBhBbg, FOk3tgrFCAOBdG4xQfIwJQ, 8HNHB9pYC0fL95DrZEOr9Q, Xl6Zup7MWqiswimEQDoc0w, Too7wDK8qDBKJfCr1NkygQ, enITk9VEGFzRjEWMbe-C3g, rqTO3H7cID8ljhnzqmNmVA, x4H5ukzwl2EshZUCVBO5KQ, TxPNfr4uRZyQSWKnaWuZPA, Aca_XGIVneqXUROouiXvdA, n5NYbT4SXdF7TYU8gZ5iJg, L7WG6aDbz-MIdP6XpDfPgQ, -i29xBGigQMGLG8mTlanOA, A7MpGBBMZMg2U9mgVlLOHw, TwJDTIh_v_nSTVZBDVXB9Q, w6Nh34nW58Kv0_JMAHcPug, I0Fb_UJv5IY4XmagBBWMzQ, MGMjWItUvNXYlcTeIkEbpg, hWJ7z1H7tWaKwaprdoVJrQ, yWhb3_66r-WPVKFV56H4tQ, D9ewdVKzyI2ZydLuMrtnpQ, 7sX9UnJ8Iyk0JiwIoT-IWg, FFPf5a0LCu2B6VsEsbAJYg, xKtrFmyh8w_4MQxTVRhnQA, v6KgBLjpygfs7mVpGuvHzQ, X9Ks0_c9qY9YGTF41t0VQg</td>\n",
              "      <td>1</td>\n",
              "      <td>Richard</td>\n",
              "      <td>12</td>\n",
              "      <td>6</td>\n",
              "      <td>2017-11-05 12:59:36</td>\n",
              "      <td>60</td>\n",
              "    </tr>\n",
              "    <tr>\n",
              "      <th>7</th>\n",
              "      <td>-A62H3Q174V1rMWPzuV0JQ</td>\n",
              "      <td>VHxvZ6TlLcCl23dokKl2xQ</td>\n",
              "      <td>0</td>\n",
              "      <td>2021-12-08</td>\n",
              "      <td>0</td>\n",
              "      <td>ra0CnfuxIHgRrvqWzZOF8w</td>\n",
              "      <td>1.0</td>\n",
              "      <td>The Drama Wingstop.\\n\\nIt's Tuesday or Thursday and you are craving for some wings - You look up a B-Dubs that's close to you. Better read this if your planning to goto this particular location. \\n\\nThis B-Dubs is the most disappointing store in the area. The store looks new and waiters always walking around but there is always drama between the employees . Here are my top reasons summarized. This was my strike 3 on 3 different occasions. \\n\\n1) Couple of weeks ago they decided to close the kitchen early and not close the restaurant or dine in. \\n2) On one occasion they decided to make a wait list of 20 people - none got a seat for the next 40min only to be informed that there won't be any dine in services but just to go , the To-go had a wait time for an additional 30min : The irony is that they called few people back to come grab their tables ( lucky I'm not among them) \\n3) This beats the above two - The servers just decided to up and quit at 8:30pm on a Tuesday and no one to clean the tables. Many customers where waiting for their orders to be taken and some needed their tables to be cleaned up. It was as if the servers were protesting. Feel sad for the waiters who decided to stay back.\\n\\nCannot comment on the food as the food is same across B-Dubs but they need to realize that  a restaurant is classified as a service industry. Been a  biweekly regular to B-Dubs  but would never come back to this one. There is no way you are guaranteed to have a peaceful fun meal. Either they need to fix the problems with their employees or find a way to not impact their service.</td>\n",
              "      <td>1</td>\n",
              "      <td>12653 Olive Blvd</td>\n",
              "      <td>...</td>\n",
              "      <td>2</td>\n",
              "      <td></td>\n",
              "      <td>0</td>\n",
              "      <td>u_zzVbMepXxnCTFMq9lKOg, v-gj8IIrSBNE2zayzqCvdQ, IUEOhBBZY4Lt51iq1J8Y3w, 8fY90Y2gVULGnP0ysg71fA, SsCJjuyP5I4vExPghZ4tBQ, tfPDmxWmekt3g-ivlduttA, Z83odGaaF0GTI5sbspMynA, imKhoQ70GNxexK5EGb-UiQ, CutZX0YtAJl9SoABZqJoDQ, 8-EETt4pDjvGFCJt81ykDw, 6PyEr65USAvQNnqLSE_Jzg, bkOfNgpUFvhe6-IX4YFjQA, azCT0xEy69nRnEO96MZbxw, N2Ln8PQoE4ymI5Amvx6I-Q, QmEAjKPawIDos5ESwJYLbQ, XtWy5Gr1y8JbK-biao6zhg, TOFjcD2nQHBk1TuD7NyoCQ, UJG8gGvfCRUSXoJtjSl07w, g8MUnzySU0CY4Fuw_pICDg, gTFKA1M1o-SaSme5nGBS2Q, 40I1cHEO3ZGGct9uWUusyw, okyL6TKC30WdmgqWuWW6ww, 22OA-IYGZ1zrT_u7K1NUPQ, wSuX1HRtHFVSOUVKiTvrfQ, kvHyxdrWvUE9oFXN_5n8lg, TgaR27IqDDcoXeMtga1snw, gdD1cMpofs69VxA6pTN5Tg, -t7X8EHLLb7noFFuyX45Zg, mSfIWIOxmVjfADHBbYD7ZQ, c8uTEDKG0OaWeMvLeJLG-w, 4ysv6kwcoxnlbTGbnRLXmQ, nZUXEEG3mlslcVIYpaJH0w, OmsarvpjBQCL-PgUp7_gAg, iYeXV1_Wwv5ypNVAKvYslA, f46oRddA9s1q30N-gIJfUg, _bwAVUrcSKnOjSqYh5lc5g, dZPjt_Ebulf3V4J6EBhBbg, FOk3tgrFCAOBdG4xQfIwJQ, 8HNHB9pYC0fL95DrZEOr9Q, Xl6Zup7MWqiswimEQDoc0w, Too7wDK8qDBKJfCr1NkygQ, enITk9VEGFzRjEWMbe-C3g, rqTO3H7cID8ljhnzqmNmVA, x4H5ukzwl2EshZUCVBO5KQ, TxPNfr4uRZyQSWKnaWuZPA, Aca_XGIVneqXUROouiXvdA, n5NYbT4SXdF7TYU8gZ5iJg, L7WG6aDbz-MIdP6XpDfPgQ, -i29xBGigQMGLG8mTlanOA, A7MpGBBMZMg2U9mgVlLOHw, TwJDTIh_v_nSTVZBDVXB9Q, w6Nh34nW58Kv0_JMAHcPug, I0Fb_UJv5IY4XmagBBWMzQ, MGMjWItUvNXYlcTeIkEbpg, hWJ7z1H7tWaKwaprdoVJrQ, yWhb3_66r-WPVKFV56H4tQ, D9ewdVKzyI2ZydLuMrtnpQ, 7sX9UnJ8Iyk0JiwIoT-IWg, FFPf5a0LCu2B6VsEsbAJYg, xKtrFmyh8w_4MQxTVRhnQA, v6KgBLjpygfs7mVpGuvHzQ, X9Ks0_c9qY9YGTF41t0VQg</td>\n",
              "      <td>1</td>\n",
              "      <td>Richard</td>\n",
              "      <td>12</td>\n",
              "      <td>6</td>\n",
              "      <td>2017-11-05 12:59:36</td>\n",
              "      <td>304</td>\n",
              "    </tr>\n",
              "    <tr>\n",
              "      <th>8</th>\n",
              "      <td>-Fu6w5lOhTcyhEQQSAostQ</td>\n",
              "      <td>PG8J71SW92ACgz1hJWrzRQ</td>\n",
              "      <td>1</td>\n",
              "      <td>2021-12-23</td>\n",
              "      <td>0</td>\n",
              "      <td>N_hUAZQeuBWWbuqskwCUYQ</td>\n",
              "      <td>5.0</td>\n",
              "      <td>The new look is clean and crisp! The new tables and chairs are way more comfortable.\\nI had the Blueberry French Toast and a side of bacon. The French toast was great especially with their homemade blueberry syrup.\\nThe staff was fantastic also. \\nI kinda miss the  memorabilia.</td>\n",
              "      <td>2</td>\n",
              "      <td>3826 S Himes Ave</td>\n",
              "      <td>...</td>\n",
              "      <td>3</td>\n",
              "      <td></td>\n",
              "      <td>0</td>\n",
              "      <td>None</td>\n",
              "      <td>1</td>\n",
              "      <td>Thomas</td>\n",
              "      <td>11</td>\n",
              "      <td>4</td>\n",
              "      <td>2012-03-22 16:48:20</td>\n",
              "      <td>48</td>\n",
              "    </tr>\n",
              "    <tr>\n",
              "      <th>9</th>\n",
              "      <td>-Fu6w5lOhTcyhEQQSAostQ</td>\n",
              "      <td>-2wh7NTLkWEgsrLJvilnFQ</td>\n",
              "      <td>1</td>\n",
              "      <td>2022-01-08</td>\n",
              "      <td>0</td>\n",
              "      <td>WUV915qTNek3KtOSxeM49Q</td>\n",
              "      <td>5.0</td>\n",
              "      <td>This is a 'must do' destination for all lovers of Turkish cuisine. The portions and quality cannot be beat! Keep in mind this is truly a traditional market where you can buy\\nTraditional products, cuisine, glass es and of course Turkish delight--but of course no alcohol. You won't miss it as the food is that amazing . The mixed grill is a masterpiece and our favorite.if you are lucky enough, Irem will be your waitress. She is attentive, respectful and helpful but they are all good. Don't be deterred if the front parking is full, there is plenty in the rear.</td>\n",
              "      <td>1</td>\n",
              "      <td>8896 N Florida Ave</td>\n",
              "      <td>...</td>\n",
              "      <td>3</td>\n",
              "      <td></td>\n",
              "      <td>0</td>\n",
              "      <td>None</td>\n",
              "      <td>1</td>\n",
              "      <td>Thomas</td>\n",
              "      <td>11</td>\n",
              "      <td>4</td>\n",
              "      <td>2012-03-22 16:48:20</td>\n",
              "      <td>102</td>\n",
              "    </tr>\n",
              "  </tbody>\n",
              "</table>\n",
              "<p>10 rows × 44 columns</p>\n",
              "</div>"
            ],
            "text/plain": [
              "                  user_id             business_id  cool        date  funny  \\\n",
              "0  -3-GR6zLPQUQXC02xE5QaA  Kfaq9cuyeXHkzWwL39jUWw     0  2022-01-08      0   \n",
              "1  -5Qgwxo8lTJQdadtJY879w  9CRWWbw3iOo4-9FMAO6nKw     0  2021-12-31      0   \n",
              "2  -5Qgwxo8lTJQdadtJY879w  SJIQFKTW6uUsOo29w9IHxw     0  2021-12-31      0   \n",
              "3  -6J6EFoigdncrbw586jAQg  gP_oWJykA2RocIs_GurKWQ     0  2021-11-20      0   \n",
              "4  -9q7GFmibqq3E6W0Bw3_jQ  gJSNa1bxwtY0dm1t-dh38w     0  2022-01-13      0   \n",
              "5  -A62H3Q174V1rMWPzuV0JQ  CBWmYHLgtFrOJs7SCcQn0g     0  2021-12-12      0   \n",
              "6  -A62H3Q174V1rMWPzuV0JQ  CBWmYHLgtFrOJs7SCcQn0g     0  2021-12-01      0   \n",
              "7  -A62H3Q174V1rMWPzuV0JQ  VHxvZ6TlLcCl23dokKl2xQ     0  2021-12-08      0   \n",
              "8  -Fu6w5lOhTcyhEQQSAostQ  PG8J71SW92ACgz1hJWrzRQ     1  2021-12-23      0   \n",
              "9  -Fu6w5lOhTcyhEQQSAostQ  -2wh7NTLkWEgsrLJvilnFQ     1  2022-01-08      0   \n",
              "\n",
              "                review_id  stars  \\\n",
              "0  5teG7qQ0oxQNRhXTkTV-AA    5.0   \n",
              "1  yhJplqlngFVTFk5W_velmQ    5.0   \n",
              "2  Q90M8AHlNxUVL0ii7MAj1w    5.0   \n",
              "3  FkuvWGHoqveIKmG2JjuEXg    5.0   \n",
              "4  P7zB0L55i7zwFt3vjAa8lw    1.0   \n",
              "5  RvhEer1-q2o1szn1yg9nHQ    5.0   \n",
              "6  43RycZ6bz9fLZ2wNZsXC-g    5.0   \n",
              "7  ra0CnfuxIHgRrvqWzZOF8w    1.0   \n",
              "8  N_hUAZQeuBWWbuqskwCUYQ    5.0   \n",
              "9  WUV915qTNek3KtOSxeM49Q    5.0   \n",
              "\n",
              "                                                                                                                                                                                                                                                                                                                                                                                                                                                                                                                                                                                                                                                                                                                                                                                                                                                                                                                                                                                                                                                                                                                                                                                                                                                                                                                                                                                                                                                                                                                                                                                                                                                         text  \\\n",
              "0                                                                                                                                                                                                                                                                                                                                                                                                                                                                                                                                                                                                                                                                                                                                                                                                                                                                                                                                                                                                                                                                                                                                                                                                                                                                                                                                                                                                                                                                                                                                                   If you leave hungry, it's your own fault. There were 8 of us. All left happy and with leftovers. So good.   \n",
              "1                                                                                                                                                                                                                                                                                                                                                                                                                                                                                                                                                                                                                                                                                                                                                                                                                                                                                                                                                                                                                                                                                                                                                                                                                                                                                                                                                                                                                                                                                   They where able to provide very good sandwiches, paninis, burgers for a group of 6 adults. Everyone was very happy with there meal and drinks. Would definitely recommend   \n",
              "2                                                                                                                                                                                                                                                                                                                                                                                                                                                                                                                                                                                                                                                                                                                                                                                                                                                                                                                                                                                                                                                                                                                                                                                                                                                                                                                                                                                                                                                                                                                                                            Was able to have very tasty po boy alligator and fish. Service at the bar was fabulous and quick   \n",
              "3                                                                                                                                                                                                                                                                                                                                                                                                                                                                                                                                                                                                                                                                                                                                                                                                                                                                                                                                                                                                                                                                                                                                                                                                                                                                                                                                                                                                                                                  While shopping in the area, we decided to try Yats for something different. Great choice! Love the food! Very authentic! The emphasis is on great service and great food. Definitely recommend this place!   \n",
              "4                                                                                                                                                                                                                                                                                                                                                                                                                                                                                                                                                                                                                                                                                                                                                                                                                                                                                                                                                                                                                                                                                                                                                                                                                                                                                                                                                                                                                                                                            Food was horrible. Hot and sour soup had no flavor. Egg rolls were both soggy and cold. 1/2 container of rice. Entree was tolerable. Nice packaging. Sure I paid a lot for that!   \n",
              "5                                                                                                                                                                                                                                                                                                                                                                                                                                                                                                                                                                                                                                                                                                                                                                                                                                                                                                                                                                                                                                                                                                                                                                                                                                                                                                                                                                  Wonderful pizza place with some of the best pizzas in STL. Too bad I finished the pizza in under 3minutes . . yummy yummy. I was lucky to get In with no wait but if anyone has to then totally worth the wait. \\n\\nBest place to stop for a bite after the anheiser bush Christmas lights   \n",
              "6                                                                                                                                                                                                                                                                                                                                                                                                                                                                                                                                                                                                                                                                                                                                                                                                                                                                                                                                                                                                                                                                                                                                                                                                                                                                                                               Simply wonderful. It was a cold winter evening. After a visit to the Budweiser brewery this should be the next stop for Anyone looking to grab a bite. Wish they had more starter options but the pizza's are amazing .\\n\\nAmazing Smoky flavored pizza with fresh veggies. Do keep in mind that it is a small place so do make reservations.   \n",
              "7  The Drama Wingstop.\\n\\nIt's Tuesday or Thursday and you are craving for some wings - You look up a B-Dubs that's close to you. Better read this if your planning to goto this particular location. \\n\\nThis B-Dubs is the most disappointing store in the area. The store looks new and waiters always walking around but there is always drama between the employees . Here are my top reasons summarized. This was my strike 3 on 3 different occasions. \\n\\n1) Couple of weeks ago they decided to close the kitchen early and not close the restaurant or dine in. \\n2) On one occasion they decided to make a wait list of 20 people - none got a seat for the next 40min only to be informed that there won't be any dine in services but just to go , the To-go had a wait time for an additional 30min : The irony is that they called few people back to come grab their tables ( lucky I'm not among them) \\n3) This beats the above two - The servers just decided to up and quit at 8:30pm on a Tuesday and no one to clean the tables. Many customers where waiting for their orders to be taken and some needed their tables to be cleaned up. It was as if the servers were protesting. Feel sad for the waiters who decided to stay back.\\n\\nCannot comment on the food as the food is same across B-Dubs but they need to realize that  a restaurant is classified as a service industry. Been a  biweekly regular to B-Dubs  but would never come back to this one. There is no way you are guaranteed to have a peaceful fun meal. Either they need to fix the problems with their employees or find a way to not impact their service.   \n",
              "8                                                                                                                                                                                                                                                                                                                                                                                                                                                                                                                                                                                                                                                                                                                                                                                                                                                                                                                                                                                                                                                                                                                                                                                                                                                                                                                                                                      The new look is clean and crisp! The new tables and chairs are way more comfortable.\\nI had the Blueberry French Toast and a side of bacon. The French toast was great especially with their homemade blueberry syrup.\\nThe staff was fantastic also. \\nI kinda miss the  memorabilia.   \n",
              "9                                                                                                                                                                                                                                                                                                                                                                                                                                                                                                                                                                                                                                                                                                                                                                                                                                                                                                                                                                                                                                                                         This is a 'must do' destination for all lovers of Turkish cuisine. The portions and quality cannot be beat! Keep in mind this is truly a traditional market where you can buy\\nTraditional products, cuisine, glass es and of course Turkish delight--but of course no alcohol. You won't miss it as the food is that amazing . The mixed grill is a masterpiece and our favorite.if you are lucky enough, Irem will be your waitress. She is attentive, respectful and helpful but they are all good. Don't be deterred if the front parking is full, there is plenty in the rear.   \n",
              "\n",
              "   useful          business_address  ... user_cool user_elite user_fans  \\\n",
              "0       0              311 Salem Pl  ...         5                    0   \n",
              "1       0          1302 Magazine St  ...         0                    0   \n",
              "2       0            411 Bourbon St  ...         0                    0   \n",
              "3       0  2000 Mallory Ln, Ste 615  ...         0                    0   \n",
              "4       0         219 Westshore Plz  ...         0                    0   \n",
              "5       0            1928 S 12th St  ...         2                    0   \n",
              "6       0            1928 S 12th St  ...         2                    0   \n",
              "7       1          12653 Olive Blvd  ...         2                    0   \n",
              "8       2          3826 S Himes Ave  ...         3                    0   \n",
              "9       1        8896 N Florida Ave  ...         3                    0   \n",
              "\n",
              "                                                                                                                                                                                                                                                                                                                                                                                                                                                                                                                                                                                                                                                                                                                                                                                                                                                                                                                                                                                                                                                                                                                                                                                                                                                                                                                                                                                                                                                                                                                                                                                                                                                                                                                                                                                                                                                                                                                                                                                                                                                                                                                                                                                                                                                                                                                                                             user_friends  \\\n",
              "0  vm2DaLbzM9KxVjDU6gmMRQ, H5fheR7XkbgdOhUD2KijTw, L_y0rqz7poPgbDRilOkdlQ, 7YrATh7GzZY6uQsVhJuhbQ, HyVrE0aWuh_vRkt0lSEN1Q, KFLKDO2lL2yqvHmAUcTJ7w, rxd0s-vUWp_8w6A97DleZg, sKAKB5xWsDcfKHKlvrGOIQ, ueKFDrWiM1Y2u7eOy04d4A, VXBW5169D7Ti2U7TwJjBHA, dcCxWTqnvaUTyqSxWuQf1g, lVT8q3he51X3Qg2E6lBquQ, SBpERfJfblzZLeiyptMz2w, aTNA2RxrrB2miAU1GMchYA, mTaf879VqxlSU31xRx6W3w, KOtQmZctTLVAm80rSzzJOQ, F0_MhbojiKvnmkxrnk7zEg, E5wkEkQFLJKoTZWb79Gnjg, QZuZSvuHtauLlUxcBtMp8g, 4Na52UNbHX-G8AeaH8WSlg, syUzpfLOxEHeuqsmi72W9A, jnMIgMQOxzUC9KMRS64fWg, yhXT_PYyYXos5dM7IrPCQg, uAOqMHULwFYICpCigSyK6A, ePl_fNcA2ABvS5BUYo0C6w, JUyde69wO2oC4ozeZGzKCA, JBjBf-8Gsa9vyx4yml1PZw, b2sMN0QeYyQp_iYPIb0yuQ, rOkUuBginV3Sr61vtxd7Qw, 6r9TBZlC_V1BD4vTzlKq8w, bmED5WuWAZrI8IGtVXXNpQ, KqOGONdFAo_eSdGnc6ruIg, G-zPuiL2URu5T_wJIwSXDw, ZwSJ5BVmMtJHcXQDfh-PyQ, to-ni2ifG9j6iwtq7E50ug, bsPcsyUSBg_aemjHCMnbDw, IWvleAnnjbelSV8aN_qHEg, sXKxvsHLqk88uyhK728kEg, uYuiyQD0qpVRjrac-QQBZA, OFe73cPte5Enk0rcawH0bw, h-yrJNTNBV56NuA4WgRWtA, qkO8zTnAsF_ysffY9JzVjg, p1exgUVJiCpTpWo0WQcgFg, v3_fq-tKYkHyzDoL5fOkzw, dKwq3_Wj6GWFMlHmAzSq3g, JN_vF-Tfm3rB0zXzYBdv_Q, qrO2nLUggs3fImgAq83htw, _499yDvYdSM_V9wTf9dQrA, lMgbFSKDOC7yaw2SaZ12nw, cM3cR0nx-zMfd2CFIuGPYw, IAGF32FB5PnRzokuQRCmmQ, IyrwcLy3K4xw4eJjyOr8jw, l4PYiNU7_o2wcCI03CxTFQ, gUVCKXf1BTxKP7Kk-veNcg, XFRyd2Ne3EU60pDbO6Vwtg, 5szV9w9eZBz1Pyk3Nk2B4g, 6NKTtNa19gD9GcUhhmLnmA, M_MBF9Y38c79Ip2IobYxLg, LF1usk2K-FrDEaLlC1xoTA, m30ydvtdr8cFze_zF7ci3w, r4M2dQt82olDzIsrq4cKlg, wdRJ7OV0Ry1nL6NL9eybpQ, 8Vwj8ZnijPLR54OJqEbrJA, V3EZxvhj12ALj906ci-TcQ, yBQpEDMcvH64rnVUQo-khQ, 9FHU3oMSLKNaa-VZNrX5IQ, 2vekpPatwG8Vc56_MWj7JQ, jxFONPtDnRdKXGQqm_pTug, lGe8WhIjIU3qMM1LVlV-KQ, HZFbWnhdNUsSnLsX0YRm9Q, vLf7ntp7hWSKU8rsoU267w, OxQkyghx-KoX9oYTKM-Gqg, UV_ZtxTwCqKI4ADIRNzXnw, rTcJeiQpM6eGfyParz2mfA, 0jHj0Fd9SLswFzysF1dVbQ, 4IgUlh9dVii-3PYfJ6BKDw, rpnzkIDl8_K85SJOGbIZ_A, vcuN-CkKB4Q5X992LonGgA, Im2LKyCwgJkId3RjIcGUJQ, KIIX4Dub9V-8C7amT4dmuw, D3oaQUerBFj-PSUi9xuGQA, vVNbM6tJC58Xzxl-uzvPUQ, 3xFYdpGpqog3jHnW9BwvbQ, KltR5rCVlRvPnMKCglH4pw, OV0HHIQSw2eC88tQBeDwDQ, tXQcH_xXa6uacDoXWdMpMQ, H5UlDj4yTyYuDukYBpE3-g, 949TOANUSLHncVLV8l1lRw, mpU2eWzjPBhm3yLYlbzOBA, 26Ne7gFJJuMN_Plyo5faRA, cthGBGVvkBMNEiNGxLaXBQ, eyiDUqHoyNttZ2HuqcKOUQ, E2_y87YAB-2_Y9kU0Dh8Qw, f67tQlYtKH3_EaAGZbp9aw, gr8NiB4bSlRh-iiFqsyN1w   \n",
              "1                                                                                                                                                                                                                                                                                                                                                                                                                                                                                                                                                                                                                                                                                                                                                                                                                                                                                                                                                                                                                                                                                                                                                                                                                                                                                                                                                                                                                                                                                                                                                                                                                                                                                                                                                                                                                                                                                                                                                                                                                                                                                                                                                                                                                                                                                                                                                                    None   \n",
              "2                                                                                                                                                                                                                                                                                                                                                                                                                                                                                                                                                                                                                                                                                                                                                                                                                                                                                                                                                                                                                                                                                                                                                                                                                                                                                                                                                                                                                                                                                                                                                                                                                                                                                                                                                                                                                                                                                                                                                                                                                                                                                                                                                                                                                                                                                                                                                                    None   \n",
              "3                                                                                                                                                                                                                                                                                                                                                                                                                                                                                                                                                                                                                                                                                                                                                                                                                                                                                                                                                                                                                                                                                                                                                                                                                                                                                                                                                                                                                                                                                                                                                                                                                                                                                                                                                                                                                                                                                                                                                                                                                                                                                                                                                                                                                          7SwgKCa2IYP2tmxxDpuwaw, vwRUqCoINjuBdozwgvVCxA, k5ERIPesXtlG_ZwV_4x8Cw, sTIXHM8SG2xsffbr4VFOKQ, xC7j_iQThneBHfrK0znCcw, JXUv61WzdqnSbZ-i-A5IvQ   \n",
              "4                                                                                                                                                                                                                                                                                                                                                                                                                                                                                                                                                                                                                                                                                                                                                                                                                                                                                                                                                                                                                                                                                                                                                                                                                                                                                                                                                                                                                                                                                                                                                                                                                                                                                                                                                                                                                                                                                                                                                                          BtUw263un2hRPQ7OvEF-8g, gh7JzS4v_xiTGUOG2kjLkQ, UeBJYMraGqWmpl1BDm0C-Q, 0IAmYzSg3Nf1Ba_9TnfJVA, FddW-eOBqP_FRCQfrV0hjQ, FiXNrNPk3gc5o9Y5hb9Tkg, XjlU3T_U6RxWqezia0Iu-g, 5IvfMSnjSmUb4npwGOHi5Q, 3gSKHvG3ceKqFxD7M-9JWg, 5A-7v6lgJJJwBbAJrWFfVw, -mO72f_iYHPIiI_hahWDOg, Q6VE-ininPCkYbcoNtmOeA, itqBWpKr4AK4-YkVqRv70g, ll0ynbol7fC_IasQ5JZbcg, TQecV9pUik2DhkQFgiufZg, wZp7njMMYvHiXp4Jr8EbwQ   \n",
              "5                                                                                                                                                                                                                                                                                                                                                                                                                                                                                                                                                                                                                                                                                                                                                                                                                          u_zzVbMepXxnCTFMq9lKOg, v-gj8IIrSBNE2zayzqCvdQ, IUEOhBBZY4Lt51iq1J8Y3w, 8fY90Y2gVULGnP0ysg71fA, SsCJjuyP5I4vExPghZ4tBQ, tfPDmxWmekt3g-ivlduttA, Z83odGaaF0GTI5sbspMynA, imKhoQ70GNxexK5EGb-UiQ, CutZX0YtAJl9SoABZqJoDQ, 8-EETt4pDjvGFCJt81ykDw, 6PyEr65USAvQNnqLSE_Jzg, bkOfNgpUFvhe6-IX4YFjQA, azCT0xEy69nRnEO96MZbxw, N2Ln8PQoE4ymI5Amvx6I-Q, QmEAjKPawIDos5ESwJYLbQ, XtWy5Gr1y8JbK-biao6zhg, TOFjcD2nQHBk1TuD7NyoCQ, UJG8gGvfCRUSXoJtjSl07w, g8MUnzySU0CY4Fuw_pICDg, gTFKA1M1o-SaSme5nGBS2Q, 40I1cHEO3ZGGct9uWUusyw, okyL6TKC30WdmgqWuWW6ww, 22OA-IYGZ1zrT_u7K1NUPQ, wSuX1HRtHFVSOUVKiTvrfQ, kvHyxdrWvUE9oFXN_5n8lg, TgaR27IqDDcoXeMtga1snw, gdD1cMpofs69VxA6pTN5Tg, -t7X8EHLLb7noFFuyX45Zg, mSfIWIOxmVjfADHBbYD7ZQ, c8uTEDKG0OaWeMvLeJLG-w, 4ysv6kwcoxnlbTGbnRLXmQ, nZUXEEG3mlslcVIYpaJH0w, OmsarvpjBQCL-PgUp7_gAg, iYeXV1_Wwv5ypNVAKvYslA, f46oRddA9s1q30N-gIJfUg, _bwAVUrcSKnOjSqYh5lc5g, dZPjt_Ebulf3V4J6EBhBbg, FOk3tgrFCAOBdG4xQfIwJQ, 8HNHB9pYC0fL95DrZEOr9Q, Xl6Zup7MWqiswimEQDoc0w, Too7wDK8qDBKJfCr1NkygQ, enITk9VEGFzRjEWMbe-C3g, rqTO3H7cID8ljhnzqmNmVA, x4H5ukzwl2EshZUCVBO5KQ, TxPNfr4uRZyQSWKnaWuZPA, Aca_XGIVneqXUROouiXvdA, n5NYbT4SXdF7TYU8gZ5iJg, L7WG6aDbz-MIdP6XpDfPgQ, -i29xBGigQMGLG8mTlanOA, A7MpGBBMZMg2U9mgVlLOHw, TwJDTIh_v_nSTVZBDVXB9Q, w6Nh34nW58Kv0_JMAHcPug, I0Fb_UJv5IY4XmagBBWMzQ, MGMjWItUvNXYlcTeIkEbpg, hWJ7z1H7tWaKwaprdoVJrQ, yWhb3_66r-WPVKFV56H4tQ, D9ewdVKzyI2ZydLuMrtnpQ, 7sX9UnJ8Iyk0JiwIoT-IWg, FFPf5a0LCu2B6VsEsbAJYg, xKtrFmyh8w_4MQxTVRhnQA, v6KgBLjpygfs7mVpGuvHzQ, X9Ks0_c9qY9YGTF41t0VQg   \n",
              "6                                                                                                                                                                                                                                                                                                                                                                                                                                                                                                                                                                                                                                                                                                                                                                                                                          u_zzVbMepXxnCTFMq9lKOg, v-gj8IIrSBNE2zayzqCvdQ, IUEOhBBZY4Lt51iq1J8Y3w, 8fY90Y2gVULGnP0ysg71fA, SsCJjuyP5I4vExPghZ4tBQ, tfPDmxWmekt3g-ivlduttA, Z83odGaaF0GTI5sbspMynA, imKhoQ70GNxexK5EGb-UiQ, CutZX0YtAJl9SoABZqJoDQ, 8-EETt4pDjvGFCJt81ykDw, 6PyEr65USAvQNnqLSE_Jzg, bkOfNgpUFvhe6-IX4YFjQA, azCT0xEy69nRnEO96MZbxw, N2Ln8PQoE4ymI5Amvx6I-Q, QmEAjKPawIDos5ESwJYLbQ, XtWy5Gr1y8JbK-biao6zhg, TOFjcD2nQHBk1TuD7NyoCQ, UJG8gGvfCRUSXoJtjSl07w, g8MUnzySU0CY4Fuw_pICDg, gTFKA1M1o-SaSme5nGBS2Q, 40I1cHEO3ZGGct9uWUusyw, okyL6TKC30WdmgqWuWW6ww, 22OA-IYGZ1zrT_u7K1NUPQ, wSuX1HRtHFVSOUVKiTvrfQ, kvHyxdrWvUE9oFXN_5n8lg, TgaR27IqDDcoXeMtga1snw, gdD1cMpofs69VxA6pTN5Tg, -t7X8EHLLb7noFFuyX45Zg, mSfIWIOxmVjfADHBbYD7ZQ, c8uTEDKG0OaWeMvLeJLG-w, 4ysv6kwcoxnlbTGbnRLXmQ, nZUXEEG3mlslcVIYpaJH0w, OmsarvpjBQCL-PgUp7_gAg, iYeXV1_Wwv5ypNVAKvYslA, f46oRddA9s1q30N-gIJfUg, _bwAVUrcSKnOjSqYh5lc5g, dZPjt_Ebulf3V4J6EBhBbg, FOk3tgrFCAOBdG4xQfIwJQ, 8HNHB9pYC0fL95DrZEOr9Q, Xl6Zup7MWqiswimEQDoc0w, Too7wDK8qDBKJfCr1NkygQ, enITk9VEGFzRjEWMbe-C3g, rqTO3H7cID8ljhnzqmNmVA, x4H5ukzwl2EshZUCVBO5KQ, TxPNfr4uRZyQSWKnaWuZPA, Aca_XGIVneqXUROouiXvdA, n5NYbT4SXdF7TYU8gZ5iJg, L7WG6aDbz-MIdP6XpDfPgQ, -i29xBGigQMGLG8mTlanOA, A7MpGBBMZMg2U9mgVlLOHw, TwJDTIh_v_nSTVZBDVXB9Q, w6Nh34nW58Kv0_JMAHcPug, I0Fb_UJv5IY4XmagBBWMzQ, MGMjWItUvNXYlcTeIkEbpg, hWJ7z1H7tWaKwaprdoVJrQ, yWhb3_66r-WPVKFV56H4tQ, D9ewdVKzyI2ZydLuMrtnpQ, 7sX9UnJ8Iyk0JiwIoT-IWg, FFPf5a0LCu2B6VsEsbAJYg, xKtrFmyh8w_4MQxTVRhnQA, v6KgBLjpygfs7mVpGuvHzQ, X9Ks0_c9qY9YGTF41t0VQg   \n",
              "7                                                                                                                                                                                                                                                                                                                                                                                                                                                                                                                                                                                                                                                                                                                                                                                                                          u_zzVbMepXxnCTFMq9lKOg, v-gj8IIrSBNE2zayzqCvdQ, IUEOhBBZY4Lt51iq1J8Y3w, 8fY90Y2gVULGnP0ysg71fA, SsCJjuyP5I4vExPghZ4tBQ, tfPDmxWmekt3g-ivlduttA, Z83odGaaF0GTI5sbspMynA, imKhoQ70GNxexK5EGb-UiQ, CutZX0YtAJl9SoABZqJoDQ, 8-EETt4pDjvGFCJt81ykDw, 6PyEr65USAvQNnqLSE_Jzg, bkOfNgpUFvhe6-IX4YFjQA, azCT0xEy69nRnEO96MZbxw, N2Ln8PQoE4ymI5Amvx6I-Q, QmEAjKPawIDos5ESwJYLbQ, XtWy5Gr1y8JbK-biao6zhg, TOFjcD2nQHBk1TuD7NyoCQ, UJG8gGvfCRUSXoJtjSl07w, g8MUnzySU0CY4Fuw_pICDg, gTFKA1M1o-SaSme5nGBS2Q, 40I1cHEO3ZGGct9uWUusyw, okyL6TKC30WdmgqWuWW6ww, 22OA-IYGZ1zrT_u7K1NUPQ, wSuX1HRtHFVSOUVKiTvrfQ, kvHyxdrWvUE9oFXN_5n8lg, TgaR27IqDDcoXeMtga1snw, gdD1cMpofs69VxA6pTN5Tg, -t7X8EHLLb7noFFuyX45Zg, mSfIWIOxmVjfADHBbYD7ZQ, c8uTEDKG0OaWeMvLeJLG-w, 4ysv6kwcoxnlbTGbnRLXmQ, nZUXEEG3mlslcVIYpaJH0w, OmsarvpjBQCL-PgUp7_gAg, iYeXV1_Wwv5ypNVAKvYslA, f46oRddA9s1q30N-gIJfUg, _bwAVUrcSKnOjSqYh5lc5g, dZPjt_Ebulf3V4J6EBhBbg, FOk3tgrFCAOBdG4xQfIwJQ, 8HNHB9pYC0fL95DrZEOr9Q, Xl6Zup7MWqiswimEQDoc0w, Too7wDK8qDBKJfCr1NkygQ, enITk9VEGFzRjEWMbe-C3g, rqTO3H7cID8ljhnzqmNmVA, x4H5ukzwl2EshZUCVBO5KQ, TxPNfr4uRZyQSWKnaWuZPA, Aca_XGIVneqXUROouiXvdA, n5NYbT4SXdF7TYU8gZ5iJg, L7WG6aDbz-MIdP6XpDfPgQ, -i29xBGigQMGLG8mTlanOA, A7MpGBBMZMg2U9mgVlLOHw, TwJDTIh_v_nSTVZBDVXB9Q, w6Nh34nW58Kv0_JMAHcPug, I0Fb_UJv5IY4XmagBBWMzQ, MGMjWItUvNXYlcTeIkEbpg, hWJ7z1H7tWaKwaprdoVJrQ, yWhb3_66r-WPVKFV56H4tQ, D9ewdVKzyI2ZydLuMrtnpQ, 7sX9UnJ8Iyk0JiwIoT-IWg, FFPf5a0LCu2B6VsEsbAJYg, xKtrFmyh8w_4MQxTVRhnQA, v6KgBLjpygfs7mVpGuvHzQ, X9Ks0_c9qY9YGTF41t0VQg   \n",
              "8                                                                                                                                                                                                                                                                                                                                                                                                                                                                                                                                                                                                                                                                                                                                                                                                                                                                                                                                                                                                                                                                                                                                                                                                                                                                                                                                                                                                                                                                                                                                                                                                                                                                                                                                                                                                                                                                                                                                                                                                                                                                                                                                                                                                                                                                                                                                                                    None   \n",
              "9                                                                                                                                                                                                                                                                                                                                                                                                                                                                                                                                                                                                                                                                                                                                                                                                                                                                                                                                                                                                                                                                                                                                                                                                                                                                                                                                                                                                                                                                                                                                                                                                                                                                                                                                                                                                                                                                                                                                                                                                                                                                                                                                                                                                                                                                                                                                                                    None   \n",
              "\n",
              "   user_funny  user_name  user_review_count user_useful   user_yelping_since  \\\n",
              "0           3     Tracey                 41          14  2016-01-25 22:20:02   \n",
              "1           0       Mike                  4           1  2020-10-28 01:46:43   \n",
              "2           0       Mike                  4           1  2020-10-28 01:46:43   \n",
              "3           0      Paige                  1           0  2021-11-20 18:40:41   \n",
              "4           0      Diana                  2           5  2011-01-21 21:14:45   \n",
              "5           1    Richard                 12           6  2017-11-05 12:59:36   \n",
              "6           1    Richard                 12           6  2017-11-05 12:59:36   \n",
              "7           1    Richard                 12           6  2017-11-05 12:59:36   \n",
              "8           1     Thomas                 11           4  2012-03-22 16:48:20   \n",
              "9           1     Thomas                 11           4  2012-03-22 16:48:20   \n",
              "\n",
              "   text_length  \n",
              "0           21  \n",
              "1           28  \n",
              "2           19  \n",
              "3           33  \n",
              "4           34  \n",
              "5           54  \n",
              "6           60  \n",
              "7          304  \n",
              "8           48  \n",
              "9          102  \n",
              "\n",
              "[10 rows x 44 columns]"
            ]
          },
          "execution_count": 6,
          "metadata": {},
          "output_type": "execute_result"
        }
      ],
      "source": [
        "reviews['text_length'] = reviews['text'].apply(count_words)\n",
        "pd.set_option('display.max_colwidth', None)\n",
        "reviews.head(10)"
      ]
    },
    {
      "cell_type": "code",
      "execution_count": 7,
      "metadata": {
        "colab": {
          "base_uri": "https://localhost:8080/",
          "height": 476
        },
        "id": "slP32Rd5FEcb",
        "outputId": "0e6aadad-35b2-4a04-9231-5d0263dd96a8"
      },
      "outputs": [
        {
          "data": {
            "text/plain": [
              "<Axes: >"
            ]
          },
          "execution_count": 7,
          "metadata": {},
          "output_type": "execute_result"
        },
        {
          "data": {
            "image/png": "[encoded data removed]",
            "text/plain": [
              "<Figure size 640x480 with 1 Axes>"
            ]
          },
          "metadata": {},
          "output_type": "display_data"
        }
      ],
      "source": [
        "sb.violinplot(data=reviews['text_length'], orient='h')"
      ]
    },
    {
      "cell_type": "code",
      "execution_count": 8,
      "metadata": {
        "colab": {
          "base_uri": "https://localhost:8080/"
        },
        "id": "26LLBSygV3VE",
        "outputId": "7d1ea7eb-b2cf-4b95-a4d0-0e26c133ca4d"
      },
      "outputs": [
        {
          "data": {
            "text/plain": [
              "count    99967.00000\n",
              "mean        95.51495\n",
              "std         90.36863\n",
              "min          1.00000\n",
              "25%         37.00000\n",
              "50%         68.00000\n",
              "75%        122.00000\n",
              "max       1021.00000\n",
              "Name: text_length, dtype: float64"
            ]
          },
          "execution_count": 8,
          "metadata": {},
          "output_type": "execute_result"
        }
      ],
      "source": [
        "reviews['text_length'].describe()"
      ]
    },
    {
      "cell_type": "markdown",
      "metadata": {},
      "source": [
        "Hence, most of the reviews were short, within 37-122 words long"
      ]
    },
    {
      "cell_type": "markdown",
      "metadata": {
        "id": "-yqeXpKiJt-l"
      },
      "source": [
        "## Deriving Sentiment from Reviews"
      ]
    },
    {
      "cell_type": "code",
      "execution_count": 9,
      "metadata": {
        "colab": {
          "base_uri": "https://localhost:8080/"
        },
        "id": "YocZIERAt9kV",
        "outputId": "10855f9d-ee54-4bca-bdff-c58335916e11"
      },
      "outputs": [],
      "source": [
        "tagger = Classifier.load('sentiment-fast')"
      ]
    },
    {
      "cell_type": "code",
      "execution_count": 10,
      "metadata": {
        "id": "1mt7ti4MzJ-Z"
      },
      "outputs": [],
      "source": [
        "sentence_list = []\n",
        "for index, row in reviews.iterrows():\n",
        "  sentence_list.append(Sentence(row['text']))"
      ]
    },
    {
      "cell_type": "code",
      "execution_count": 11,
      "metadata": {
        "colab": {
          "base_uri": "https://localhost:8080/"
        },
        "id": "A4eoLjOC2oqS",
        "outputId": "78b1bad2-f51c-4e76-cdd6-bffae56ed86f"
      },
      "outputs": [
        {
          "name": "stderr",
          "output_type": "stream",
          "text": [
            "Batch inference: 100%|██████████| 100/100 [02:55<00:00,  1.76s/it]\n"
          ]
        }
      ],
      "source": [
        "tagger.predict(sentence_list, mini_batch_size=1000, verbose=True)"
      ]
    },
    {
      "cell_type": "code",
      "execution_count": 12,
      "metadata": {
        "id": "b8q0cut17Xsj"
      },
      "outputs": [],
      "source": [
        "sentiment_values = []\n",
        "sentiment_score = []\n",
        "for sentence in sentence_list:\n",
        "  labels = sentence.labels[0]\n",
        "  sentiment_values.append(labels.value)\n",
        "  sentiment_score.append(labels.score)"
      ]
    },
    {
      "cell_type": "code",
      "execution_count": 13,
      "metadata": {
        "id": "Oay1v38F7crS"
      },
      "outputs": [],
      "source": [
        "reviews[\"sentiment_value\"] = pd.Series(sentiment_values)\n",
        "reviews[\"sentiment_score\"] = pd.Series(sentiment_score)"
      ]
    },
    {
      "cell_type": "code",
      "execution_count": 14,
      "metadata": {
        "id": "1JBCpja7D_yf"
      },
      "outputs": [
        {
          "data": {
            "text/html": [
              "<div>\n",
              "<style scoped>\n",
              "    .dataframe tbody tr th:only-of-type {\n",
              "        vertical-align: middle;\n",
              "    }\n",
              "\n",
              "    .dataframe tbody tr th {\n",
              "        vertical-align: top;\n",
              "    }\n",
              "\n",
              "    .dataframe thead th {\n",
              "        text-align: right;\n",
              "    }\n",
              "</style>\n",
              "<table border=\"1\" class=\"dataframe\">\n",
              "  <thead>\n",
              "    <tr style=\"text-align: right;\">\n",
              "      <th></th>\n",
              "      <th>user_id</th>\n",
              "      <th>business_id</th>\n",
              "      <th>cool</th>\n",
              "      <th>date</th>\n",
              "      <th>funny</th>\n",
              "      <th>review_id</th>\n",
              "      <th>stars</th>\n",
              "      <th>text</th>\n",
              "      <th>useful</th>\n",
              "      <th>business_address</th>\n",
              "      <th>...</th>\n",
              "      <th>user_fans</th>\n",
              "      <th>user_friends</th>\n",
              "      <th>user_funny</th>\n",
              "      <th>user_name</th>\n",
              "      <th>user_review_count</th>\n",
              "      <th>user_useful</th>\n",
              "      <th>user_yelping_since</th>\n",
              "      <th>text_length</th>\n",
              "      <th>sentiment_value</th>\n",
              "      <th>sentiment_score</th>\n",
              "    </tr>\n",
              "  </thead>\n",
              "  <tbody>\n",
              "    <tr>\n",
              "      <th>0</th>\n",
              "      <td>-3-GR6zLPQUQXC02xE5QaA</td>\n",
              "      <td>Kfaq9cuyeXHkzWwL39jUWw</td>\n",
              "      <td>0</td>\n",
              "      <td>2022-01-08</td>\n",
              "      <td>0</td>\n",
              "      <td>5teG7qQ0oxQNRhXTkTV-AA</td>\n",
              "      <td>5.0</td>\n",
              "      <td>If you leave hungry, it's your own fault. There were 8 of us. All left happy and with leftovers. So good.</td>\n",
              "      <td>0</td>\n",
              "      <td>311 Salem Pl</td>\n",
              "      <td>...</td>\n",
              "      <td>0</td>\n",
              "      <td>vm2DaLbzM9KxVjDU6gmMRQ, H5fheR7XkbgdOhUD2KijTw, L_y0rqz7poPgbDRilOkdlQ, 7YrATh7GzZY6uQsVhJuhbQ, HyVrE0aWuh_vRkt0lSEN1Q, KFLKDO2lL2yqvHmAUcTJ7w, rxd0s-vUWp_8w6A97DleZg, sKAKB5xWsDcfKHKlvrGOIQ, ueKFDrWiM1Y2u7eOy04d4A, VXBW5169D7Ti2U7TwJjBHA, dcCxWTqnvaUTyqSxWuQf1g, lVT8q3he51X3Qg2E6lBquQ, SBpERfJfblzZLeiyptMz2w, aTNA2RxrrB2miAU1GMchYA, mTaf879VqxlSU31xRx6W3w, KOtQmZctTLVAm80rSzzJOQ, F0_MhbojiKvnmkxrnk7zEg, E5wkEkQFLJKoTZWb79Gnjg, QZuZSvuHtauLlUxcBtMp8g, 4Na52UNbHX-G8AeaH8WSlg, syUzpfLOxEHeuqsmi72W9A, jnMIgMQOxzUC9KMRS64fWg, yhXT_PYyYXos5dM7IrPCQg, uAOqMHULwFYICpCigSyK6A, ePl_fNcA2ABvS5BUYo0C6w, JUyde69wO2oC4ozeZGzKCA, JBjBf-8Gsa9vyx4yml1PZw, b2sMN0QeYyQp_iYPIb0yuQ, rOkUuBginV3Sr61vtxd7Qw, 6r9TBZlC_V1BD4vTzlKq8w, bmED5WuWAZrI8IGtVXXNpQ, KqOGONdFAo_eSdGnc6ruIg, G-zPuiL2URu5T_wJIwSXDw, ZwSJ5BVmMtJHcXQDfh-PyQ, to-ni2ifG9j6iwtq7E50ug, bsPcsyUSBg_aemjHCMnbDw, IWvleAnnjbelSV8aN_qHEg, sXKxvsHLqk88uyhK728kEg, uYuiyQD0qpVRjrac-QQBZA, OFe73cPte5Enk0rcawH0bw, h-yrJNTNBV56NuA4WgRWtA, qkO8zTnAsF_ysffY9JzVjg, p1exgUVJiCpTpWo0WQcgFg, v3_fq-tKYkHyzDoL5fOkzw, dKwq3_Wj6GWFMlHmAzSq3g, JN_vF-Tfm3rB0zXzYBdv_Q, qrO2nLUggs3fImgAq83htw, _499yDvYdSM_V9wTf9dQrA, lMgbFSKDOC7yaw2SaZ12nw, cM3cR0nx-zMfd2CFIuGPYw, IAGF32FB5PnRzokuQRCmmQ, IyrwcLy3K4xw4eJjyOr8jw, l4PYiNU7_o2wcCI03CxTFQ, gUVCKXf1BTxKP7Kk-veNcg, XFRyd2Ne3EU60pDbO6Vwtg, 5szV9w9eZBz1Pyk3Nk2B4g, 6NKTtNa19gD9GcUhhmLnmA, M_MBF9Y38c79Ip2IobYxLg, LF1usk2K-FrDEaLlC1xoTA, m30ydvtdr8cFze_zF7ci3w, r4M2dQt82olDzIsrq4cKlg, wdRJ7OV0Ry1nL6NL9eybpQ, 8Vwj8ZnijPLR54OJqEbrJA, V3EZxvhj12ALj906ci-TcQ, yBQpEDMcvH64rnVUQo-khQ, 9FHU3oMSLKNaa-VZNrX5IQ, 2vekpPatwG8Vc56_MWj7JQ, jxFONPtDnRdKXGQqm_pTug, lGe8WhIjIU3qMM1LVlV-KQ, HZFbWnhdNUsSnLsX0YRm9Q, vLf7ntp7hWSKU8rsoU267w, OxQkyghx-KoX9oYTKM-Gqg, UV_ZtxTwCqKI4ADIRNzXnw, rTcJeiQpM6eGfyParz2mfA, 0jHj0Fd9SLswFzysF1dVbQ, 4IgUlh9dVii-3PYfJ6BKDw, rpnzkIDl8_K85SJOGbIZ_A, vcuN-CkKB4Q5X992LonGgA, Im2LKyCwgJkId3RjIcGUJQ, KIIX4Dub9V-8C7amT4dmuw, D3oaQUerBFj-PSUi9xuGQA, vVNbM6tJC58Xzxl-uzvPUQ, 3xFYdpGpqog3jHnW9BwvbQ, KltR5rCVlRvPnMKCglH4pw, OV0HHIQSw2eC88tQBeDwDQ, tXQcH_xXa6uacDoXWdMpMQ, H5UlDj4yTyYuDukYBpE3-g, 949TOANUSLHncVLV8l1lRw, mpU2eWzjPBhm3yLYlbzOBA, 26Ne7gFJJuMN_Plyo5faRA, cthGBGVvkBMNEiNGxLaXBQ, eyiDUqHoyNttZ2HuqcKOUQ, E2_y87YAB-2_Y9kU0Dh8Qw, f67tQlYtKH3_EaAGZbp9aw, gr8NiB4bSlRh-iiFqsyN1w</td>\n",
              "      <td>3</td>\n",
              "      <td>Tracey</td>\n",
              "      <td>41</td>\n",
              "      <td>14</td>\n",
              "      <td>2016-01-25 22:20:02</td>\n",
              "      <td>21</td>\n",
              "      <td>POSITIVE</td>\n",
              "      <td>0.846753</td>\n",
              "    </tr>\n",
              "    <tr>\n",
              "      <th>1</th>\n",
              "      <td>-5Qgwxo8lTJQdadtJY879w</td>\n",
              "      <td>9CRWWbw3iOo4-9FMAO6nKw</td>\n",
              "      <td>0</td>\n",
              "      <td>2021-12-31</td>\n",
              "      <td>0</td>\n",
              "      <td>yhJplqlngFVTFk5W_velmQ</td>\n",
              "      <td>5.0</td>\n",
              "      <td>They where able to provide very good sandwiches, paninis, burgers for a group of 6 adults. Everyone was very happy with there meal and drinks. Would definitely recommend</td>\n",
              "      <td>0</td>\n",
              "      <td>1302 Magazine St</td>\n",
              "      <td>...</td>\n",
              "      <td>0</td>\n",
              "      <td>None</td>\n",
              "      <td>0</td>\n",
              "      <td>Mike</td>\n",
              "      <td>4</td>\n",
              "      <td>1</td>\n",
              "      <td>2020-10-28 01:46:43</td>\n",
              "      <td>28</td>\n",
              "      <td>POSITIVE</td>\n",
              "      <td>0.999487</td>\n",
              "    </tr>\n",
              "    <tr>\n",
              "      <th>2</th>\n",
              "      <td>-5Qgwxo8lTJQdadtJY879w</td>\n",
              "      <td>SJIQFKTW6uUsOo29w9IHxw</td>\n",
              "      <td>0</td>\n",
              "      <td>2021-12-31</td>\n",
              "      <td>0</td>\n",
              "      <td>Q90M8AHlNxUVL0ii7MAj1w</td>\n",
              "      <td>5.0</td>\n",
              "      <td>Was able to have very tasty po boy alligator and fish. Service at the bar was fabulous and quick</td>\n",
              "      <td>0</td>\n",
              "      <td>411 Bourbon St</td>\n",
              "      <td>...</td>\n",
              "      <td>0</td>\n",
              "      <td>None</td>\n",
              "      <td>0</td>\n",
              "      <td>Mike</td>\n",
              "      <td>4</td>\n",
              "      <td>1</td>\n",
              "      <td>2020-10-28 01:46:43</td>\n",
              "      <td>19</td>\n",
              "      <td>POSITIVE</td>\n",
              "      <td>0.992423</td>\n",
              "    </tr>\n",
              "    <tr>\n",
              "      <th>3</th>\n",
              "      <td>-6J6EFoigdncrbw586jAQg</td>\n",
              "      <td>gP_oWJykA2RocIs_GurKWQ</td>\n",
              "      <td>0</td>\n",
              "      <td>2021-11-20</td>\n",
              "      <td>0</td>\n",
              "      <td>FkuvWGHoqveIKmG2JjuEXg</td>\n",
              "      <td>5.0</td>\n",
              "      <td>While shopping in the area, we decided to try Yats for something different. Great choice! Love the food! Very authentic! The emphasis is on great service and great food. Definitely recommend this place!</td>\n",
              "      <td>0</td>\n",
              "      <td>2000 Mallory Ln, Ste 615</td>\n",
              "      <td>...</td>\n",
              "      <td>0</td>\n",
              "      <td>7SwgKCa2IYP2tmxxDpuwaw, vwRUqCoINjuBdozwgvVCxA, k5ERIPesXtlG_ZwV_4x8Cw, sTIXHM8SG2xsffbr4VFOKQ, xC7j_iQThneBHfrK0znCcw, JXUv61WzdqnSbZ-i-A5IvQ</td>\n",
              "      <td>0</td>\n",
              "      <td>Paige</td>\n",
              "      <td>1</td>\n",
              "      <td>0</td>\n",
              "      <td>2021-11-20 18:40:41</td>\n",
              "      <td>33</td>\n",
              "      <td>POSITIVE</td>\n",
              "      <td>0.997592</td>\n",
              "    </tr>\n",
              "    <tr>\n",
              "      <th>4</th>\n",
              "      <td>-9q7GFmibqq3E6W0Bw3_jQ</td>\n",
              "      <td>gJSNa1bxwtY0dm1t-dh38w</td>\n",
              "      <td>0</td>\n",
              "      <td>2022-01-13</td>\n",
              "      <td>0</td>\n",
              "      <td>P7zB0L55i7zwFt3vjAa8lw</td>\n",
              "      <td>1.0</td>\n",
              "      <td>Food was horrible. Hot and sour soup had no flavor. Egg rolls were both soggy and cold. 1/2 container of rice. Entree was tolerable. Nice packaging. Sure I paid a lot for that!</td>\n",
              "      <td>0</td>\n",
              "      <td>219 Westshore Plz</td>\n",
              "      <td>...</td>\n",
              "      <td>0</td>\n",
              "      <td>BtUw263un2hRPQ7OvEF-8g, gh7JzS4v_xiTGUOG2kjLkQ, UeBJYMraGqWmpl1BDm0C-Q, 0IAmYzSg3Nf1Ba_9TnfJVA, FddW-eOBqP_FRCQfrV0hjQ, FiXNrNPk3gc5o9Y5hb9Tkg, XjlU3T_U6RxWqezia0Iu-g, 5IvfMSnjSmUb4npwGOHi5Q, 3gSKHvG3ceKqFxD7M-9JWg, 5A-7v6lgJJJwBbAJrWFfVw, -mO72f_iYHPIiI_hahWDOg, Q6VE-ininPCkYbcoNtmOeA, itqBWpKr4AK4-YkVqRv70g, ll0ynbol7fC_IasQ5JZbcg, TQecV9pUik2DhkQFgiufZg, wZp7njMMYvHiXp4Jr8EbwQ</td>\n",
              "      <td>0</td>\n",
              "      <td>Diana</td>\n",
              "      <td>2</td>\n",
              "      <td>5</td>\n",
              "      <td>2011-01-21 21:14:45</td>\n",
              "      <td>34</td>\n",
              "      <td>NEGATIVE</td>\n",
              "      <td>0.999950</td>\n",
              "    </tr>\n",
              "  </tbody>\n",
              "</table>\n",
              "<p>5 rows × 46 columns</p>\n",
              "</div>"
            ],
            "text/plain": [
              "                  user_id             business_id  cool        date  funny  \\\n",
              "0  -3-GR6zLPQUQXC02xE5QaA  Kfaq9cuyeXHkzWwL39jUWw     0  2022-01-08      0   \n",
              "1  -5Qgwxo8lTJQdadtJY879w  9CRWWbw3iOo4-9FMAO6nKw     0  2021-12-31      0   \n",
              "2  -5Qgwxo8lTJQdadtJY879w  SJIQFKTW6uUsOo29w9IHxw     0  2021-12-31      0   \n",
              "3  -6J6EFoigdncrbw586jAQg  gP_oWJykA2RocIs_GurKWQ     0  2021-11-20      0   \n",
              "4  -9q7GFmibqq3E6W0Bw3_jQ  gJSNa1bxwtY0dm1t-dh38w     0  2022-01-13      0   \n",
              "\n",
              "                review_id  stars  \\\n",
              "0  5teG7qQ0oxQNRhXTkTV-AA    5.0   \n",
              "1  yhJplqlngFVTFk5W_velmQ    5.0   \n",
              "2  Q90M8AHlNxUVL0ii7MAj1w    5.0   \n",
              "3  FkuvWGHoqveIKmG2JjuEXg    5.0   \n",
              "4  P7zB0L55i7zwFt3vjAa8lw    1.0   \n",
              "\n",
              "                                                                                                                                                                                                         text  \\\n",
              "0                                                                                                   If you leave hungry, it's your own fault. There were 8 of us. All left happy and with leftovers. So good.   \n",
              "1                                   They where able to provide very good sandwiches, paninis, burgers for a group of 6 adults. Everyone was very happy with there meal and drinks. Would definitely recommend   \n",
              "2                                                                                                            Was able to have very tasty po boy alligator and fish. Service at the bar was fabulous and quick   \n",
              "3  While shopping in the area, we decided to try Yats for something different. Great choice! Love the food! Very authentic! The emphasis is on great service and great food. Definitely recommend this place!   \n",
              "4                            Food was horrible. Hot and sour soup had no flavor. Egg rolls were both soggy and cold. 1/2 container of rice. Entree was tolerable. Nice packaging. Sure I paid a lot for that!   \n",
              "\n",
              "   useful          business_address  ... user_fans  \\\n",
              "0       0              311 Salem Pl  ...         0   \n",
              "1       0          1302 Magazine St  ...         0   \n",
              "2       0            411 Bourbon St  ...         0   \n",
              "3       0  2000 Mallory Ln, Ste 615  ...         0   \n",
              "4       0         219 Westshore Plz  ...         0   \n",
              "\n",
              "                                                                                                                                                                                                                                                                                                                                                                                                                                                                                                                                                                                                                                                                                                                                                                                                                                                                                                                                                                                                                                                                                                                                                                                                                                                                                                                                                                                                                                                                                                                                                                                                                                                                                                                                                                                                                                                                                                                                                                                                                                                                                                                                                                                                                                                                                                                                                             user_friends  \\\n",
              "0  vm2DaLbzM9KxVjDU6gmMRQ, H5fheR7XkbgdOhUD2KijTw, L_y0rqz7poPgbDRilOkdlQ, 7YrATh7GzZY6uQsVhJuhbQ, HyVrE0aWuh_vRkt0lSEN1Q, KFLKDO2lL2yqvHmAUcTJ7w, rxd0s-vUWp_8w6A97DleZg, sKAKB5xWsDcfKHKlvrGOIQ, ueKFDrWiM1Y2u7eOy04d4A, VXBW5169D7Ti2U7TwJjBHA, dcCxWTqnvaUTyqSxWuQf1g, lVT8q3he51X3Qg2E6lBquQ, SBpERfJfblzZLeiyptMz2w, aTNA2RxrrB2miAU1GMchYA, mTaf879VqxlSU31xRx6W3w, KOtQmZctTLVAm80rSzzJOQ, F0_MhbojiKvnmkxrnk7zEg, E5wkEkQFLJKoTZWb79Gnjg, QZuZSvuHtauLlUxcBtMp8g, 4Na52UNbHX-G8AeaH8WSlg, syUzpfLOxEHeuqsmi72W9A, jnMIgMQOxzUC9KMRS64fWg, yhXT_PYyYXos5dM7IrPCQg, uAOqMHULwFYICpCigSyK6A, ePl_fNcA2ABvS5BUYo0C6w, JUyde69wO2oC4ozeZGzKCA, JBjBf-8Gsa9vyx4yml1PZw, b2sMN0QeYyQp_iYPIb0yuQ, rOkUuBginV3Sr61vtxd7Qw, 6r9TBZlC_V1BD4vTzlKq8w, bmED5WuWAZrI8IGtVXXNpQ, KqOGONdFAo_eSdGnc6ruIg, G-zPuiL2URu5T_wJIwSXDw, ZwSJ5BVmMtJHcXQDfh-PyQ, to-ni2ifG9j6iwtq7E50ug, bsPcsyUSBg_aemjHCMnbDw, IWvleAnnjbelSV8aN_qHEg, sXKxvsHLqk88uyhK728kEg, uYuiyQD0qpVRjrac-QQBZA, OFe73cPte5Enk0rcawH0bw, h-yrJNTNBV56NuA4WgRWtA, qkO8zTnAsF_ysffY9JzVjg, p1exgUVJiCpTpWo0WQcgFg, v3_fq-tKYkHyzDoL5fOkzw, dKwq3_Wj6GWFMlHmAzSq3g, JN_vF-Tfm3rB0zXzYBdv_Q, qrO2nLUggs3fImgAq83htw, _499yDvYdSM_V9wTf9dQrA, lMgbFSKDOC7yaw2SaZ12nw, cM3cR0nx-zMfd2CFIuGPYw, IAGF32FB5PnRzokuQRCmmQ, IyrwcLy3K4xw4eJjyOr8jw, l4PYiNU7_o2wcCI03CxTFQ, gUVCKXf1BTxKP7Kk-veNcg, XFRyd2Ne3EU60pDbO6Vwtg, 5szV9w9eZBz1Pyk3Nk2B4g, 6NKTtNa19gD9GcUhhmLnmA, M_MBF9Y38c79Ip2IobYxLg, LF1usk2K-FrDEaLlC1xoTA, m30ydvtdr8cFze_zF7ci3w, r4M2dQt82olDzIsrq4cKlg, wdRJ7OV0Ry1nL6NL9eybpQ, 8Vwj8ZnijPLR54OJqEbrJA, V3EZxvhj12ALj906ci-TcQ, yBQpEDMcvH64rnVUQo-khQ, 9FHU3oMSLKNaa-VZNrX5IQ, 2vekpPatwG8Vc56_MWj7JQ, jxFONPtDnRdKXGQqm_pTug, lGe8WhIjIU3qMM1LVlV-KQ, HZFbWnhdNUsSnLsX0YRm9Q, vLf7ntp7hWSKU8rsoU267w, OxQkyghx-KoX9oYTKM-Gqg, UV_ZtxTwCqKI4ADIRNzXnw, rTcJeiQpM6eGfyParz2mfA, 0jHj0Fd9SLswFzysF1dVbQ, 4IgUlh9dVii-3PYfJ6BKDw, rpnzkIDl8_K85SJOGbIZ_A, vcuN-CkKB4Q5X992LonGgA, Im2LKyCwgJkId3RjIcGUJQ, KIIX4Dub9V-8C7amT4dmuw, D3oaQUerBFj-PSUi9xuGQA, vVNbM6tJC58Xzxl-uzvPUQ, 3xFYdpGpqog3jHnW9BwvbQ, KltR5rCVlRvPnMKCglH4pw, OV0HHIQSw2eC88tQBeDwDQ, tXQcH_xXa6uacDoXWdMpMQ, H5UlDj4yTyYuDukYBpE3-g, 949TOANUSLHncVLV8l1lRw, mpU2eWzjPBhm3yLYlbzOBA, 26Ne7gFJJuMN_Plyo5faRA, cthGBGVvkBMNEiNGxLaXBQ, eyiDUqHoyNttZ2HuqcKOUQ, E2_y87YAB-2_Y9kU0Dh8Qw, f67tQlYtKH3_EaAGZbp9aw, gr8NiB4bSlRh-iiFqsyN1w   \n",
              "1                                                                                                                                                                                                                                                                                                                                                                                                                                                                                                                                                                                                                                                                                                                                                                                                                                                                                                                                                                                                                                                                                                                                                                                                                                                                                                                                                                                                                                                                                                                                                                                                                                                                                                                                                                                                                                                                                                                                                                                                                                                                                                                                                                                                                                                                                                                                                                    None   \n",
              "2                                                                                                                                                                                                                                                                                                                                                                                                                                                                                                                                                                                                                                                                                                                                                                                                                                                                                                                                                                                                                                                                                                                                                                                                                                                                                                                                                                                                                                                                                                                                                                                                                                                                                                                                                                                                                                                                                                                                                                                                                                                                                                                                                                                                                                                                                                                                                                    None   \n",
              "3                                                                                                                                                                                                                                                                                                                                                                                                                                                                                                                                                                                                                                                                                                                                                                                                                                                                                                                                                                                                                                                                                                                                                                                                                                                                                                                                                                                                                                                                                                                                                                                                                                                                                                                                                                                                                                                                                                                                                                                                                                                                                                                                                                                                                          7SwgKCa2IYP2tmxxDpuwaw, vwRUqCoINjuBdozwgvVCxA, k5ERIPesXtlG_ZwV_4x8Cw, sTIXHM8SG2xsffbr4VFOKQ, xC7j_iQThneBHfrK0znCcw, JXUv61WzdqnSbZ-i-A5IvQ   \n",
              "4                                                                                                                                                                                                                                                                                                                                                                                                                                                                                                                                                                                                                                                                                                                                                                                                                                                                                                                                                                                                                                                                                                                                                                                                                                                                                                                                                                                                                                                                                                                                                                                                                                                                                                                                                                                                                                                                                                                                                                          BtUw263un2hRPQ7OvEF-8g, gh7JzS4v_xiTGUOG2kjLkQ, UeBJYMraGqWmpl1BDm0C-Q, 0IAmYzSg3Nf1Ba_9TnfJVA, FddW-eOBqP_FRCQfrV0hjQ, FiXNrNPk3gc5o9Y5hb9Tkg, XjlU3T_U6RxWqezia0Iu-g, 5IvfMSnjSmUb4npwGOHi5Q, 3gSKHvG3ceKqFxD7M-9JWg, 5A-7v6lgJJJwBbAJrWFfVw, -mO72f_iYHPIiI_hahWDOg, Q6VE-ininPCkYbcoNtmOeA, itqBWpKr4AK4-YkVqRv70g, ll0ynbol7fC_IasQ5JZbcg, TQecV9pUik2DhkQFgiufZg, wZp7njMMYvHiXp4Jr8EbwQ   \n",
              "\n",
              "  user_funny user_name  user_review_count  user_useful   user_yelping_since  \\\n",
              "0          3    Tracey                 41           14  2016-01-25 22:20:02   \n",
              "1          0      Mike                  4            1  2020-10-28 01:46:43   \n",
              "2          0      Mike                  4            1  2020-10-28 01:46:43   \n",
              "3          0     Paige                  1            0  2021-11-20 18:40:41   \n",
              "4          0     Diana                  2            5  2011-01-21 21:14:45   \n",
              "\n",
              "  text_length sentiment_value  sentiment_score  \n",
              "0          21        POSITIVE         0.846753  \n",
              "1          28        POSITIVE         0.999487  \n",
              "2          19        POSITIVE         0.992423  \n",
              "3          33        POSITIVE         0.997592  \n",
              "4          34        NEGATIVE         0.999950  \n",
              "\n",
              "[5 rows x 46 columns]"
            ]
          },
          "execution_count": 14,
          "metadata": {},
          "output_type": "execute_result"
        }
      ],
      "source": [
        "reviews.head()"
      ]
    },
    {
      "cell_type": "markdown",
      "metadata": {
        "id": "ltPyLxWo2cTD"
      },
      "source": [
        "### Count of Positive/Negative reviews of Open businesses vs Closed businesses"
      ]
    },
    {
      "cell_type": "code",
      "execution_count": 15,
      "metadata": {
        "id": "Xrj7F5YG2XYr"
      },
      "outputs": [],
      "source": [
        "reviews_businesses_closed = reviews[reviews[\"business_is_open\"] == 0]\n",
        "reviews_businesses_open = reviews[reviews[\"business_is_open\"] == 1]"
      ]
    },
    {
      "cell_type": "code",
      "execution_count": 16,
      "metadata": {
        "id": "rEDnfn0G4Otp"
      },
      "outputs": [
        {
          "name": "stdout",
          "output_type": "stream",
          "text": [
            "sentiment_value   NEGATIVE  POSITIVE\n",
            "business_is_open                    \n",
            "0                      169       198\n",
            "1                    34684     64916\n"
          ]
        }
      ],
      "source": [
        "print(pd.crosstab(reviews['business_is_open'], reviews['sentiment_value']))"
      ]
    },
    {
      "cell_type": "markdown",
      "metadata": {},
      "source": [
        "As it was not clearly documented in Flair, we were wondering what the sentiment_score was: confidence level or sentiment level. \\\n",
        "Since the middle 50% (25% - 75%) is around 0.99, it is probably representing the confidence level, hence we will drop this column as we already have a column for the actual sentiment"
      ]
    },
    {
      "cell_type": "code",
      "execution_count": 17,
      "metadata": {
        "id": "oliVskcSOV_e"
      },
      "outputs": [
        {
          "data": {
            "text/html": [
              "<div>\n",
              "<style scoped>\n",
              "    .dataframe tbody tr th:only-of-type {\n",
              "        vertical-align: middle;\n",
              "    }\n",
              "\n",
              "    .dataframe tbody tr th {\n",
              "        vertical-align: top;\n",
              "    }\n",
              "\n",
              "    .dataframe thead th {\n",
              "        text-align: right;\n",
              "    }\n",
              "</style>\n",
              "<table border=\"1\" class=\"dataframe\">\n",
              "  <thead>\n",
              "    <tr style=\"text-align: right;\">\n",
              "      <th></th>\n",
              "      <th>sentiment_score</th>\n",
              "    </tr>\n",
              "  </thead>\n",
              "  <tbody>\n",
              "    <tr>\n",
              "      <th>count</th>\n",
              "      <td>99967.000000</td>\n",
              "    </tr>\n",
              "    <tr>\n",
              "      <th>mean</th>\n",
              "      <td>0.973884</td>\n",
              "    </tr>\n",
              "    <tr>\n",
              "      <th>std</th>\n",
              "      <td>0.077059</td>\n",
              "    </tr>\n",
              "    <tr>\n",
              "      <th>min</th>\n",
              "      <td>0.500150</td>\n",
              "    </tr>\n",
              "    <tr>\n",
              "      <th>25%</th>\n",
              "      <td>0.993694</td>\n",
              "    </tr>\n",
              "    <tr>\n",
              "      <th>50%</th>\n",
              "      <td>0.998567</td>\n",
              "    </tr>\n",
              "    <tr>\n",
              "      <th>75%</th>\n",
              "      <td>0.999562</td>\n",
              "    </tr>\n",
              "    <tr>\n",
              "      <th>max</th>\n",
              "      <td>1.000000</td>\n",
              "    </tr>\n",
              "  </tbody>\n",
              "</table>\n",
              "</div>"
            ],
            "text/plain": [
              "       sentiment_score\n",
              "count     99967.000000\n",
              "mean          0.973884\n",
              "std           0.077059\n",
              "min           0.500150\n",
              "25%           0.993694\n",
              "50%           0.998567\n",
              "75%           0.999562\n",
              "max           1.000000"
            ]
          },
          "execution_count": 17,
          "metadata": {},
          "output_type": "execute_result"
        }
      ],
      "source": [
        "scores = reviews[[\"sentiment_score\"]]\n",
        "scores.describe()"
      ]
    },
    {
      "cell_type": "code",
      "execution_count": 18,
      "metadata": {},
      "outputs": [],
      "source": [
        "del reviews[\"sentiment_score\"]"
      ]
    },
    {
      "cell_type": "code",
      "execution_count": 19,
      "metadata": {},
      "outputs": [
        {
          "data": {
            "text/plain": [
              "Index(['user_id', 'business_id', 'cool', 'date', 'funny', 'review_id', 'stars',\n",
              "       'text', 'useful', 'business_address', 'business_attributes',\n",
              "       'business_categories', 'business_city', 'business_hours',\n",
              "       'business_is_open', 'business_latitude', 'business_longitude',\n",
              "       'business_name', 'business_postal_code', 'business_review_count',\n",
              "       'business_stars', 'business_state', 'user_average_stars',\n",
              "       'user_compliment_cool', 'user_compliment_cute', 'user_compliment_funny',\n",
              "       'user_compliment_hot', 'user_compliment_list', 'user_compliment_more',\n",
              "       'user_compliment_note', 'user_compliment_photos',\n",
              "       'user_compliment_plain', 'user_compliment_profile',\n",
              "       'user_compliment_writer', 'user_cool', 'user_elite', 'user_fans',\n",
              "       'user_friends', 'user_funny', 'user_name', 'user_review_count',\n",
              "       'user_useful', 'user_yelping_since', 'text_length', 'sentiment_value'],\n",
              "      dtype='object')"
            ]
          },
          "execution_count": 19,
          "metadata": {},
          "output_type": "execute_result"
        }
      ],
      "source": [
        "reviews.columns"
      ]
    },
    {
      "cell_type": "markdown",
      "metadata": {},
      "source": [
        "### Verdict: We cannot conclude that closed businesses have more negative reviews, because the total review count for closed businesses is much lower than open businseses, which makes the negative/positive review count for each closed businesses significantly lower than open businesses"
      ]
    },
    {
      "cell_type": "markdown",
      "metadata": {},
      "source": [
        "### Exporting to CSV"
      ]
    },
    {
      "cell_type": "code",
      "execution_count": 20,
      "metadata": {},
      "outputs": [],
      "source": [
        "reviews_with_id = reviews[[\"review_id\", \"business_id\" ,\"sentiment_value\"]].copy()"
      ]
    },
    {
      "cell_type": "code",
      "execution_count": 21,
      "metadata": {},
      "outputs": [
        {
          "data": {
            "text/html": [
              "<div>\n",
              "<style scoped>\n",
              "    .dataframe tbody tr th:only-of-type {\n",
              "        vertical-align: middle;\n",
              "    }\n",
              "\n",
              "    .dataframe tbody tr th {\n",
              "        vertical-align: top;\n",
              "    }\n",
              "\n",
              "    .dataframe thead th {\n",
              "        text-align: right;\n",
              "    }\n",
              "</style>\n",
              "<table border=\"1\" class=\"dataframe\">\n",
              "  <thead>\n",
              "    <tr style=\"text-align: right;\">\n",
              "      <th></th>\n",
              "      <th>review_id</th>\n",
              "      <th>business_id</th>\n",
              "      <th>sentiment_value</th>\n",
              "    </tr>\n",
              "  </thead>\n",
              "  <tbody>\n",
              "    <tr>\n",
              "      <th>0</th>\n",
              "      <td>5teG7qQ0oxQNRhXTkTV-AA</td>\n",
              "      <td>Kfaq9cuyeXHkzWwL39jUWw</td>\n",
              "      <td>POSITIVE</td>\n",
              "    </tr>\n",
              "    <tr>\n",
              "      <th>1</th>\n",
              "      <td>yhJplqlngFVTFk5W_velmQ</td>\n",
              "      <td>9CRWWbw3iOo4-9FMAO6nKw</td>\n",
              "      <td>POSITIVE</td>\n",
              "    </tr>\n",
              "    <tr>\n",
              "      <th>2</th>\n",
              "      <td>Q90M8AHlNxUVL0ii7MAj1w</td>\n",
              "      <td>SJIQFKTW6uUsOo29w9IHxw</td>\n",
              "      <td>POSITIVE</td>\n",
              "    </tr>\n",
              "    <tr>\n",
              "      <th>3</th>\n",
              "      <td>FkuvWGHoqveIKmG2JjuEXg</td>\n",
              "      <td>gP_oWJykA2RocIs_GurKWQ</td>\n",
              "      <td>POSITIVE</td>\n",
              "    </tr>\n",
              "    <tr>\n",
              "      <th>4</th>\n",
              "      <td>P7zB0L55i7zwFt3vjAa8lw</td>\n",
              "      <td>gJSNa1bxwtY0dm1t-dh38w</td>\n",
              "      <td>NEGATIVE</td>\n",
              "    </tr>\n",
              "  </tbody>\n",
              "</table>\n",
              "</div>"
            ],
            "text/plain": [
              "                review_id             business_id sentiment_value\n",
              "0  5teG7qQ0oxQNRhXTkTV-AA  Kfaq9cuyeXHkzWwL39jUWw        POSITIVE\n",
              "1  yhJplqlngFVTFk5W_velmQ  9CRWWbw3iOo4-9FMAO6nKw        POSITIVE\n",
              "2  Q90M8AHlNxUVL0ii7MAj1w  SJIQFKTW6uUsOo29w9IHxw        POSITIVE\n",
              "3  FkuvWGHoqveIKmG2JjuEXg  gP_oWJykA2RocIs_GurKWQ        POSITIVE\n",
              "4  P7zB0L55i7zwFt3vjAa8lw  gJSNa1bxwtY0dm1t-dh38w        NEGATIVE"
            ]
          },
          "execution_count": 21,
          "metadata": {},
          "output_type": "execute_result"
        }
      ],
      "source": [
        "reviews_with_id.head()"
      ]
    },
    {
      "cell_type": "code",
      "execution_count": 22,
      "metadata": {},
      "outputs": [],
      "source": [
        "reviews_with_id.to_csv(\"reviews_id_with_sentiment.csv\", index=False)"
      ]
    },
    {
      "cell_type": "code",
      "execution_count": 23,
      "metadata": {},
      "outputs": [
        {
          "data": {
            "text/plain": [
              "39378"
            ]
          },
          "execution_count": 23,
          "metadata": {},
          "output_type": "execute_result"
        }
      ],
      "source": [
        "len(reviews[\"business_id\"].unique())"
      ]
    },
    {
      "cell_type": "code",
      "execution_count": null,
      "metadata": {},
      "outputs": [],
      "source": []
    }
  ],
  "metadata": {
    "accelerator": "GPU",
    "colab": {
      "gpuType": "T4",
      "provenance": [],
      "toc_visible": true
    },
    "kernelspec": {
      "display_name": "Python 3",
      "name": "python3"
    },
    "language_info": {
      "codemirror_mode": {
        "name": "ipython",
        "version": 3
      },
      "file_extension": ".py",
      "mimetype": "text/x-python",
      "name": "python",
      "nbconvert_exporter": "python",
      "pygments_lexer": "ipython3",
      "version": "3.11.8"
    }
  },
  "nbformat": 4,
  "nbformat_minor": 0
}
