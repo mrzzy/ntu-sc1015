{
 "cells": [
  {
   "cell_type": "markdown",
   "metadata": {
    "colab_type": "text",
    "id": "view-in-github"
   },
   "source": [
    "<a href=\"https://colab.research.google.com/github/mrzzy/ntu-sc1015/blob/main/model.ipynb\" target=\"_parent\"><img src=\"https://colab.research.google.com/assets/colab-badge.svg\" alt=\"Open In Colab\"/></a>"
   ]
  },
  {
   "cell_type": "markdown",
   "metadata": {
    "id": "HoIG3_zMRcto"
   },
   "source": [
    "# ML Modeling: Business Closure Prediction\n",
    "\n",
    "In order to answer what makes a business stay open, we have to model the problem into a Binary Classification problem and predict whether a business will open or close:\n",
    "- `0` This business has **closed**\n",
    "- `1` This business is still **open**.\n",
    "\n",
    "\n",
    "Objective: Train a Machine Learning (ML) model to predict whether an Yelp business will close:\n",
    "- Problem: **Binary Classification** Predict whether the Yelp business is labeled as _open_ or _closed_.\n",
    "- Machine Learning (ML) Algorithms: Logistic Regression, Random Forest & eXtreme Gradient Boosting (XGBoost).\n",
    "- Evaluation Metric: F1-Score,\n",
    "- Dataset: [Yelp Dataset](https://www.yelp.com/dataset)\n"
   ]
  },
  {
   "cell_type": "code",
   "execution_count": 1,
   "metadata": {
    "id": "v7z-EVkGWIrB"
   },
   "outputs": [],
   "source": [
    "import numpy as np\n",
    "import pandas as pd\n",
    "import matplotlib.pyplot as plt\n",
    "import seaborn as sns\n",
    "\n",
    "from math import ceil\n",
    "from typing import Generic\n",
    "from sklearn.base import BaseEstimator, ClassifierMixin, TransformerMixin\n",
    "from imblearn.pipeline import Pipeline, make_pipeline\n",
    "from imblearn.under_sampling import RandomUnderSampler\n",
    "from sklearn.compose import ColumnTransformer\n",
    "from sklearn.preprocessing import StandardScaler, FunctionTransformer, OneHotEncoder\n",
    "from sklearn.model_selection import train_test_split, cross_validate, ShuffleSplit\n",
    "from sklearn.linear_model import LogisticRegression\n",
    "from sklearn.ensemble import RandomForestClassifier\n",
    "from sklearn.metrics import f1_score\n",
    "from xgboost import XGBClassifier\n",
    "\n",
    "from sklearn.experimental import enable_halving_search_cv # noqa\n",
    "from sklearn.model_selection import HalvingRandomSearchCV\n",
    "from scipy.stats import randint, loguniform\n",
    "\n",
    "sns.set_theme()"
   ]
  },
  {
   "cell_type": "markdown",
   "metadata": {
    "id": "uobjuwQ6KjkY"
   },
   "source": [
    "# Prepare Dataset"
   ]
  },
  {
   "cell_type": "markdown",
   "metadata": {
    "id": "Zaa22l5vLFtn"
   },
   "source": [
    "### Load Dataset\n",
    "Load prepared Yelp Dataset"
   ]
  },
  {
   "cell_type": "code",
   "execution_count": 2,
   "metadata": {
    "id": "u8rAOKE6KllC"
   },
   "outputs": [],
   "source": [
    "reviews_df = pd.read_parquet(\n",
    "    \"https://ntu-sc1015-yelp.s3.ap-southeast-1.amazonaws.com/yelp_reviews.parquet/part-00000-tid-666118639932506010-9f727aa9-11e6-466d-9314-69664704543d-2119-1-c000.snappy.parquet\"\n",
    ")"
   ]
  },
  {
   "cell_type": "markdown",
   "metadata": {
    "id": "a29yprTxVfW4"
   },
   "source": [
    "### Regroup Data\n",
    "Cardinality of `reviews_df` is at the _reviews level_. We are specfically interested in business features at the _business level_.\n",
    "\n",
    "Regroup data to the _business level_ and extract business features:\n"
   ]
  },
  {
   "cell_type": "code",
   "execution_count": 3,
   "metadata": {
    "id": "lKnj4B05WfNV"
   },
   "outputs": [],
   "source": [
    "business_cols = reviews_df.columns[reviews_df.columns.str.startswith(\"business_\")]\n",
    "review_counts = reviews_df.groupby(\"business_id\")[\"review_id\"].count()\n",
    "business_df = reviews_df[business_cols].groupby(\"business_id\").first()\n",
    "business_df[\"n_reviews\"] = review_counts"
   ]
  },
  {
   "cell_type": "markdown",
   "metadata": {
    "id": "HNFpUOjxTxQF"
   },
   "source": [
    "### Target Variable\n",
    "Given Yelp dataset features, we are trying to whether `business_is_open`:\n",
    "- `0` This business has **closed**\n",
    "- `1` This business is still **open**.\n"
   ]
  },
  {
   "cell_type": "code",
   "execution_count": 4,
   "metadata": {
    "id": "o0pwEOlqUTMJ"
   },
   "outputs": [],
   "source": [
    "target = \"business_is_open\"\n",
    "targets = business_df[target]\n",
    "features = business_df.columns[business_df.columns != target]\n",
    "feature_df = business_df[features]"
   ]
  },
  {
   "cell_type": "markdown",
   "metadata": {
    "id": "QeSW-IJqdM1b"
   },
   "source": [
    "### Split Dataset\n",
    "Split dataset into train and test subsets using stratified random sampling to ensure consistent target distribution on train / test subsets."
   ]
  },
  {
   "cell_type": "code",
   "execution_count": 5,
   "metadata": {
    "id": "YZS9VCB_dRXD"
   },
   "outputs": [],
   "source": [
    "train_feature_df, test_feature_df, train_targets, test_targets = train_test_split(\n",
    "    feature_df, targets, test_size=0.2, random_state=42, stratify=targets\n",
    ")"
   ]
  },
  {
   "cell_type": "markdown",
   "metadata": {
    "id": "CAtP2iZtLuVm"
   },
   "source": [
    "### Transform for ML\n",
    "Apply transformations to data to convert it into a form suitable for Machine Learning."
   ]
  },
  {
   "cell_type": "markdown",
   "metadata": {
    "id": "gzempXlkQQvS"
   },
   "source": [
    "#### Target: Business Is Open\n",
    "Observing distribution of our target variable `business_is_open`, we can see an imbalance of open (1) and closed (0) businesses. This imbalance is undesirable as it may cause the model to over bias towards the over represented class. Additionally class imbalance causes evaluation metrics, especially accuracy to become unreliable in determining actual model performance.\n"
   ]
  },
  {
   "cell_type": "code",
   "execution_count": 6,
   "metadata": {
    "colab": {
     "base_uri": "https://localhost:8080/",
     "height": 474
    },
    "id": "3df09oiaN7sQ",
    "outputId": "d08c54b8-e0aa-4c47-c457-311b10ae0ce3"
   },
   "outputs": [
    {
     "data": {
      "text/plain": [
       "<Axes: title={'center': 'business_is_open'}, ylabel='business_is_open'>"
      ]
     },
     "execution_count": 6,
     "metadata": {},
     "output_type": "execute_result"
    },
    {
     "data": {
      "image/png": "[encoded data removed]",
      "text/plain": [
       "<Figure size 640x480 with 1 Axes>"
      ]
     },
     "metadata": {},
     "output_type": "display_data"
    }
   ],
   "source": [
    "plt.title(\"business_is_open\")\n",
    "train_targets.value_counts().plot(kind=\"barh\")"
   ]
  },
  {
   "cell_type": "markdown",
   "metadata": {
    "id": "NSG4zgaHQ61S"
   },
   "source": [
    "To combat imbalance, random under sampling of the majority class is done to balance out the no. of examples between classes.\n",
    "\n",
    "Additionally F1 score, the harmonic mean between precision and recall is selected as the replacement metric to evaluate candidate models due to its robustness to class imbalance.\n"
   ]
  },
  {
   "cell_type": "code",
   "execution_count": 7,
   "metadata": {
    "id": "EfnGRGDcSKGb"
   },
   "outputs": [],
   "source": [
    "sampler = RandomUnderSampler(sampling_strategy=\"majority\", random_state=42)"
   ]
  },
  {
   "cell_type": "markdown",
   "metadata": {
    "id": "W1KUnn1bBn5_"
   },
   "source": [
    "#### Business Rating\n",
    "`business_stars`\n",
    "- In Exploratory Data Analysis (EDA), we have observed that `business_stars` is left skewed, hence `np.exp2()` is applied to correct the skew.\n"
   ]
  },
  {
   "cell_type": "code",
   "execution_count": 8,
   "metadata": {
    "id": "9GlPrD-RBt3z"
   },
   "outputs": [],
   "source": [
    "unskew_stars_tfm = (\"unskew_stars\", FunctionTransformer(np.exp2, feature_names_out=\"one-to-one\"), [\"business_stars\"])"
   ]
  },
  {
   "cell_type": "markdown",
   "metadata": {
    "id": "iLqqcFf0B-1_"
   },
   "source": [
    "\n",
    "#### No. of Reviews\n",
    "`n_reviews`\n",
    "- EDA shows that a good indicator of whether a business will close is the no. of reviews recieved by the business. In particular, if the business recieves no reviews, its highly likely to close.\n"
   ]
  },
  {
   "cell_type": "code",
   "execution_count": 9,
   "metadata": {
    "id": "xCTikmYHCIEs"
   },
   "outputs": [],
   "source": [
    "n_reviews_tfm = (\"passthrough\", \"passthrough\", [\"n_reviews\"])"
   ]
  },
  {
   "cell_type": "markdown",
   "metadata": {
    "id": "NKtzfqIjKvYP"
   },
   "source": [
    "#### Business Main Category\n",
    "`business_categories`\n",
    "- EDA shows that `business_categories` is especially high cardinality, making it unsuitable for direct one hot encoding due to the exceeding large no. of columns.\n",
    "- High cardinality is a result of `business_categories` being multiple category labels being concatenated together.\n",
    "- We extract the  _main categories_ [^1] for each set of categories labels to lower cardinality to a manageable level (22 main categories).\n",
    "\n",
    "\n",
    "[^1]: https://blog.yelp.com/businesses/yelp_category_list/"
   ]
  },
  {
   "cell_type": "code",
   "execution_count": 10,
   "metadata": {
    "id": "S1MIf3YV5Kwm"
   },
   "outputs": [],
   "source": [
    "MAIN_CATEGORIES = {\n",
    "    \"Active Life\",\n",
    "    \"Arts & Entertainment\",\n",
    "    \"Automotive\",\n",
    "    \"Beauty & Spas\",\n",
    "    \"Education\",\n",
    "    \"Event Planning & Services\",\n",
    "    \"Financial Services\",\n",
    "    \"Food\",\n",
    "    \"Health & Medical\",\n",
    "    \"Home Services\",\n",
    "    \"Hotels & Travel\",\n",
    "    \"Local Flavor\",\n",
    "    \"Local Services\",\n",
    "    \"Mass Media\",\n",
    "    \"Nightlife\",\n",
    "    \"Pets\",\n",
    "    \"Professional Services\",\n",
    "    \"Public Services & Government\",\n",
    "    \"Religious Organizations\",\n",
    "    \"Restaurants\",\n",
    "    \"Shopping\",\n",
    "    \"Others\",\n",
    "}\n",
    "\n",
    "\n",
    "def filter_main(categories: pd.DataFrame) -> pd.DataFrame:\n",
    "    \"\"\"Filter categories to extract the first matching main category\"\"\"\n",
    "    return (\n",
    "        categories.iloc[:, 0]\n",
    "        .fillna(\"\")\n",
    "        .str.split(\", \")\n",
    "        .apply(\n",
    "            lambda categories: \", \".join(\n",
    "                [c for c in categories if c in MAIN_CATEGORIES]\n",
    "            )\n",
    "        )\n",
    "        .str.get_dummies(\", \")\n",
    "    )\n",
    "\n",
    "\n",
    "main_category_tfm = (\n",
    "    \"main_category\",\n",
    "    make_pipeline(\n",
    "        FunctionTransformer(filter_main, feature_names_out=\"one-to-one\"),\n",
    "        OneHotEncoder(sparse_output=False),\n",
    "    ),\n",
    "    [\"business_categories\"],\n",
    ")"
   ]
  },
  {
   "cell_type": "code",
   "execution_count": 11,
   "metadata": {
    "id": "Cyc-QduvZGnb"
   },
   "outputs": [],
   "source": [
    "transform = ColumnTransformer(\n",
    "    transformers=[\n",
    "        unskew_stars_tfm,\n",
    "        n_reviews_tfm,\n",
    "        main_category_tfm,\n",
    "    ]\n",
    ")"
   ]
  },
  {
   "cell_type": "markdown",
   "metadata": {
    "id": "gFMnRf_sdKLJ"
   },
   "source": [
    "#### All Features\n",
    "`StandardScaler` is applied to normalise feature values to a range suitable for ML models.\n"
   ]
  },
  {
   "cell_type": "code",
   "execution_count": 12,
   "metadata": {
    "id": "mqZswTr-dM6E"
   },
   "outputs": [],
   "source": [
    "scaler = StandardScaler()"
   ]
  },
  {
   "cell_type": "markdown",
   "metadata": {
    "id": "44MgwS4SUhlu"
   },
   "source": [
    "# ML Modelling\n",
    "To select an ML algorithm, Logistic Regression, Random Forest & XGBoost models are trained on training data and evaluated with stratified K Fold cross validation (K=5) to benchmark their relative performance on the dataset."
   ]
  },
  {
   "cell_type": "markdown",
   "metadata": {
    "id": "DJPqzS4fU4u_"
   },
   "source": [
    "### ML Algorithms\n",
    "Models will be built from the following ML Algorithms:"
   ]
  },
  {
   "cell_type": "code",
   "execution_count": 13,
   "metadata": {
    "id": "yFPlmVvfU0Q4"
   },
   "outputs": [],
   "source": [
    "models = [\n",
    "    LogisticRegression(),\n",
    "    RandomForestClassifier(),\n",
    "    XGBClassifier(),\n",
    "]"
   ]
  },
  {
   "cell_type": "markdown",
   "metadata": {
    "id": "p7SXLM8eg-Dj"
   },
   "source": [
    "### Model Evaluation\n",
    "Model evaluation be performed on the following metrics:\n",
    "- F1-score: Harmonic Mean of Precision and Recall\n",
    "- Precision\n",
    "- Recall\n",
    "- Accuracy\n",
    "\n",
    "Do to the presence of class imbalance, F1-score is choosen over Accuracy as the _core metric_ to benchmark Models for Model Selection."
   ]
  },
  {
   "cell_type": "code",
   "execution_count": 14,
   "metadata": {
    "id": "23Y7rInZM9lg"
   },
   "outputs": [],
   "source": [
    "metrics = [\n",
    "    \"f1\",\n",
    "    \"precision\",\n",
    "    \"recall\",\n",
    "    \"accuracy\",\n",
    "]"
   ]
  },
  {
   "cell_type": "markdown",
   "metadata": {
    "id": "LdytArvSMhBx"
   },
   "source": [
    "### Train & Evaluation Lifecycle\n",
    "Group data transformation, model training & evaluation steps into a single objective function:\n",
    "\n"
   ]
  },
  {
   "cell_type": "code",
   "execution_count": 15,
   "metadata": {
    "id": "SKTLBuA5X5xS"
   },
   "outputs": [],
   "source": [
    "def build_pipeline(model: BaseEstimator) -> Pipeline:\n",
    "  # group data transform & model steps in single pipeline\n",
    "  return Pipeline(\n",
    "    steps=[\n",
    "        (\"sample_data\", sampler),\n",
    "        (\"transform_data\", transform),\n",
    "        (\"scale_data\", scaler),\n",
    "        (\"model\", model),\n",
    "    ]\n",
    "  )\n",
    "\n",
    "def train_eval(\n",
    "    pipeline: Pipeline, feature_df: pd.DataFrame, targets: pd.Series\n",
    ") -> pd.DataFrame:\n",
    "    # train & evaluate model with metrics\n",
    "    results = cross_validate(\n",
    "        estimator=pipeline,\n",
    "        X=train_feature_df,\n",
    "        y=train_targets,\n",
    "        scoring=metrics,\n",
    "        cv=5,\n",
    "        return_train_score=True,\n",
    "        # cross validate on all CPU cores\n",
    "        n_jobs=-1,\n",
    "    )\n",
    "\n",
    "    # rename \"test_\" columns to \"valid_\" to reflect that they are derieved from validation set\n",
    "    df = pd.DataFrame(results)\n",
    "    df.columns = df.columns.str.replace(\"test_\", \"valid_\")\n",
    "    df[\"pipeline\"] = str(pipeline)\n",
    "    model = pipeline.named_steps[\"model\"]\n",
    "    df[\"model\"] = str(model)\n",
    "    df[\"model_class\"] = str(model.__class__)\n",
    "    return df"
   ]
  },
  {
   "cell_type": "markdown",
   "metadata": {
    "id": "HZfexmt-S26X"
   },
   "source": [
    "### Model Selection\n",
    "Train models using different ML algorithms to determine optimum ML algorithm for task:\n",
    "- Logistic Regression\n",
    "- Random Forest\n",
    "- eXtreme Gradient Boosting Trees (XGBoost)"
   ]
  },
  {
   "cell_type": "code",
   "execution_count": 16,
   "metadata": {
    "colab": {
     "base_uri": "https://localhost:8080/"
    },
    "id": "kw8tprRzaQje",
    "outputId": "9f19f477-48e7-4a03-8713-4dab66503e3b"
   },
   "outputs": [
    {
     "name": "stdout",
     "output_type": "stream",
     "text": [
      "CPU times: user 17.7 s, sys: 2.16 s, total: 19.9 s\n",
      "Wall time: 1min 34s\n"
     ]
    }
   ],
   "source": [
    "%%time\n",
    "results_df = pd.concat([train_eval(build_pipeline(m), train_feature_df, train_targets) for m in models])"
   ]
  },
  {
   "cell_type": "code",
   "execution_count": 17,
   "metadata": {
    "colab": {
     "base_uri": "https://localhost:8080/"
    },
    "id": "680z5WlMM5Nn",
    "outputId": "fa3d366a-4b0f-45b5-f104-06df5445bfb1"
   },
   "outputs": [
    {
     "data": {
      "text/plain": [
       "model_class\n",
       "<class 'sklearn.linear_model._logistic.LogisticRegression'>    0.797952\n",
       "<class 'sklearn.ensemble._forest.RandomForestClassifier'>      0.810122\n",
       "<class 'xgboost.sklearn.XGBClassifier'>                        0.813560\n",
       "Name: valid_f1, dtype: float64"
      ]
     },
     "execution_count": 17,
     "metadata": {},
     "output_type": "execute_result"
    }
   ],
   "source": [
    "results_df.groupby(\"model_class\")[\"valid_f1\"].mean().sort_values()"
   ]
  },
  {
   "cell_type": "markdown",
   "metadata": {
    "id": "Lm5IsQmLSWxu"
   },
   "source": [
    "Based on F1 score evaluated using K-Fold cross validation, XGBoost is the best performing."
   ]
  },
  {
   "cell_type": "markdown",
   "metadata": {
    "id": "I8Pt0U4dT6G6"
   },
   "source": [
    "### Hyperparameter Tuning\n",
    "60 random samples of the following XGBoost Hyperparameters [^1] [^2] where evaluated on 80-20 train-validation split to find the optimal combination of Hyperparameters:\n",
    "- `reg_alpha` (0 - 1000) L1 regularization applied to model weights.\n",
    "- `min_child_weight` (0 - 120) Minimum weight of tree node, below which the XGBoost tree will not partition.\n",
    "- `subsample` (0.5 - 1) Below 1, XGBoost will randomly select a subset of the training data to train on.\n",
    "- `learning_rate` (0.1 - 0.5) Learning rate of each tree trained at the end of each boosting step.\n",
    "- `n_estimators` (1 -  4000) No. of rounds of boosting to perform.\n",
    "\n",
    "In particular, `reg_alpha`, `min_child_weight` , `subsample`, `learning_rate` are explored on a logarithmic scale to cover various orders of magnitude for these Hyperparameters.\n",
    "\n",
    "[^1]: https://docs.aws.amazon.com/sagemaker/latest/dg/xgboost-tuning.html\n",
    "[^2]: https://xgboost.readthedocs.io/en/stable/parameter.html"
   ]
  },
  {
   "cell_type": "code",
   "execution_count": 18,
   "metadata": {
    "id": "mim2qud8yEEZ"
   },
   "outputs": [],
   "source": [
    "params = {\n",
    "  \"model__reg_alpha\": loguniform(1e-9, 1000),\n",
    "  \"model__min_child_weight\": loguniform(1e-9, 120),\n",
    "  \"model__subsample\": loguniform(0.5, 1),\n",
    "  \"model__learning_rate\": loguniform(0.1, 0.5),\n",
    "  \"model__n_estimators\": randint(1, 4000),\n",
    "}\n"
   ]
  },
  {
   "cell_type": "markdown",
   "metadata": {
    "id": "lX5NMRhjyDur"
   },
   "source": [
    "Sample random combinations of Hyperparameters to find optimal combination of Hyperparameters.\n",
    "\n",
    "\n",
    "Successive Halving is applied to quickly try out hyperparameter combinations on a sample of the training data, eliminating unpromising combinations early tornonament style. This reserves more computational resources to\n",
    "exploring promising hyperparameter combinations, identified initial trails, in later trials with more data,  which are more computationally expensive."
   ]
  },
  {
   "cell_type": "code",
   "execution_count": 19,
   "metadata": {
    "colab": {
     "base_uri": "https://localhost:8080/"
    },
    "id": "MUKMwRIyVN_A",
    "outputId": "231f9dae-0da1-4218-b61b-9dd80942081c"
   },
   "outputs": [
    {
     "name": "stdout",
     "output_type": "stream",
     "text": [
      "CPU times: user 2min 4s, sys: 11.5 s, total: 2min 16s\n",
      "Wall time: 4min 42s\n"
     ]
    }
   ],
   "source": [
    "%%time\n",
    "search =  HalvingRandomSearchCV(\n",
    "    build_pipeline(XGBClassifier()),\n",
    "    params,\n",
    "    cv=ShuffleSplit(n_splits=1, test_size=0.2, random_state=42),\n",
    "    scoring=\"f1\",\n",
    "    return_train_score=True,\n",
    "    resource=\"n_samples\",\n",
    "    min_resources=\"exhaust\",\n",
    "    n_candidates=60,\n",
    "    random_state=42,\n",
    "    n_jobs=-1,\n",
    ").fit(train_feature_df, train_targets)"
   ]
  },
  {
   "cell_type": "code",
   "execution_count": 20,
   "metadata": {
    "colab": {
     "base_uri": "https://localhost:8080/"
    },
    "id": "u2eFKJOTXsCg",
    "outputId": "d0487be8-04f2-4170-8dbc-c9661471adf9"
   },
   "outputs": [
    {
     "data": {
      "text/plain": [
       "{'model__learning_rate': 0.21984307903252542,\n",
       " 'model__min_child_weight': 83.21469511575232,\n",
       " 'model__n_estimators': 1440,\n",
       " 'model__reg_alpha': 0.01295271132412025,\n",
       " 'model__subsample': 0.528821715655488}"
      ]
     },
     "execution_count": 20,
     "metadata": {},
     "output_type": "execute_result"
    }
   ],
   "source": [
    "search.best_params_"
   ]
  },
  {
   "cell_type": "code",
   "execution_count": 21,
   "metadata": {
    "colab": {
     "base_uri": "https://localhost:8080/"
    },
    "id": "CyB1VWb_XtXR",
    "outputId": "a1a27a51-2a1c-4f58-d416-ca296009766d"
   },
   "outputs": [
    {
     "data": {
      "text/plain": [
       "0.8120584079133303"
      ]
     },
     "execution_count": 21,
     "metadata": {},
     "output_type": "execute_result"
    }
   ],
   "source": [
    "search.best_score_"
   ]
  },
  {
   "cell_type": "markdown",
   "metadata": {
    "id": "AxZ3hgaI4zdE"
   },
   "source": [
    "## Test Evaluation\n",
    "Prior evaluations of model have been performed on validation sets sampled from the training data. This information has been used to tune Hyperparameters, which could have resulted in a overfit of Hyperparameters to training data.\n",
    "\n",
    "A final evaluation of the best model's performance is performed on the a yet unseen test set to give a unbiased estimate of model performance and check for Hyperparameter overfitting:"
   ]
  },
  {
   "cell_type": "code",
   "execution_count": 22,
   "metadata": {
    "colab": {
     "base_uri": "https://localhost:8080/"
    },
    "id": "PWMSQA4B-2hx",
    "outputId": "81bc5e37-5ae0-4e64-bb70-effa08c945f2"
   },
   "outputs": [
    {
     "data": {
      "text/plain": [
       "0.8202152550304166"
      ]
     },
     "execution_count": 22,
     "metadata": {},
     "output_type": "execute_result"
    }
   ],
   "source": [
    "model = search.best_estimator_\n",
    "test_preds = model.predict(test_feature_df)\n",
    "f1_score(test_targets, test_preds)"
   ]
  },
  {
   "cell_type": "markdown",
   "metadata": {
    "id": "OKBpEAMDe4QY"
   },
   "source": [
    "## Feature Importances\n",
    "Feature Importance values can be extracted from the XGBoost model. These values indicate how valuable each feature is influencing the model's prediction on whether a Yelp Business will survive.\n"
   ]
  },
  {
   "cell_type": "code",
   "execution_count": 101,
   "metadata": {
    "colab": {
     "base_uri": "https://localhost:8080/",
     "height": 475
    },
    "id": "W2SOW0GYhBvI",
    "outputId": "92023bf0-bcc1-4ed1-efd2-f3d83ee99a7c"
   },
   "outputs": [
    {
     "data": {
      "text/plain": [
       "<Axes: xlabel='Importance', ylabel='Feature'>"
      ]
     },
     "execution_count": 101,
     "metadata": {},
     "output_type": "execute_result"
    },
    {
     "data": {
      "image/png": "[encoded data removed]",
      "text/plain": [
       "<Figure size 640x480 with 1 Axes>"
      ]
     },
     "metadata": {},
     "output_type": "display_data"
    }
   ],
   "source": [
    "# tag feature importances with feature names\n",
    "feature_names = [\"business_stars\", \"n_reviews\"] + list(model.named_steps[\"transform_data\"].named_transformers_[\"main_category\"].named_steps[\"onehotencoder\"].get_feature_names_out())\n",
    "importances = pd.Series(\n",
    "    model.named_steps[\"model\"].feature_importances_,\n",
    "    index=feature_names,\n",
    ").sort_values(ascending=False)\n",
    "\n",
    "# filter out zero importance features\n",
    "importance_df = importances[importances != 0].to_frame().reset_index()\n",
    "importance_df.columns = [\"Feature\", \"Importance\"]\n",
    "sns.barplot(importance_df, x=\"Importance\", y=\"Feature\", hue=\"Importance\", orient=\"h\")\n"
   ]
  },
  {
   "cell_type": "markdown",
   "metadata": {
    "id": "FmhriHdusgu3"
   },
   "source": [
    "Observing the Feature Importance plot above, we conclude that the `n_reviews` is the Key Predictor of a Yelp businesses ability to surivive."
   ]
  }
 ],
 "metadata": {
  "colab": {
   "include_colab_link": true,
   "provenance": []
  },
  "kernelspec": {
   "display_name": "Python 3 (ipykernel)",
   "language": "python",
   "name": "python3"
  },
  "language_info": {
   "codemirror_mode": {
    "name": "ipython",
    "version": 3
   },
   "file_extension": ".py",
   "mimetype": "text/x-python",
   "name": "python",
   "nbconvert_exporter": "python",
   "pygments_lexer": "ipython3",
   "version": "3.10.12"
  }
 },
 "nbformat": 4,
 "nbformat_minor": 4
}
