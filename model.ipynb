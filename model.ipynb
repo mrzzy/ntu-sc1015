{
  "nbformat": 4,
  "nbformat_minor": 0,
  "metadata": {
    "colab": {
      "provenance": [],
      "authorship_tag": "ABX9TyPHTOP4aT2GjOmHMFOW5X3f"
    },
    "kernelspec": {
      "name": "python3",
      "display_name": "Python 3"
    },
    "language_info": {
      "name": "python"
    }
  },
  "cells": [
    {
      "cell_type": "markdown",
      "source": [
        "# ML Modeling: Business Closure Prediction\n",
        "Objective: Train a Machine Learning (ML) model to predict whether an Yelp business will close:\n",
        "- Problem: **Binary Classification** Predict whether the Yelp business is labeled as _open_ or _closed_.\n",
        "- Evaluation Metric: F1-Score,\n",
        "- Dataset: [Yelp Dataset](https://www.yelp.com/dataset)"
      ],
      "metadata": {
        "id": "HoIG3_zMRcto"
      }
    },
    {
      "cell_type": "code",
      "source": [
        "import numpy as np\n",
        "import pandas as pd\n",
        "import matplotlib.pyplot as plt\n",
        "import seaborn as sns\n",
        "\n",
        "from typing import Generic\n",
        "from sklearn.base import BaseEstimator, ClassifierMixin, TransformerMixin\n",
        "from imblearn.pipeline import Pipeline\n",
        "from imblearn.under_sampling import RandomUnderSampler\n",
        "from sklearn.compose import ColumnTransformer\n",
        "from sklearn.preprocessing import StandardScaler, FunctionTransformer\n",
        "from sklearn.model_selection import train_test_split, cross_validate\n",
        "from sklearn.linear_model import LogisticRegression\n",
        "\n",
        "sns.set_theme()"
      ],
      "metadata": {
        "id": "v7z-EVkGWIrB"
      },
      "execution_count": 25,
      "outputs": []
    },
    {
      "cell_type": "markdown",
      "source": [
        "# Prepare Dataset"
      ],
      "metadata": {
        "id": "uobjuwQ6KjkY"
      }
    },
    {
      "cell_type": "markdown",
      "source": [
        "### Load Dataset\n",
        "Load prepared Yelp Dataset"
      ],
      "metadata": {
        "id": "Zaa22l5vLFtn"
      }
    },
    {
      "cell_type": "code",
      "source": [
        "reviews_df = pd.read_parquet(\"https://ntu-sc1015-yelp.s3.ap-southeast-1.amazonaws.com/yelp_reviews.parquet/part-00000-tid-666118639932506010-9f727aa9-11e6-466d-9314-69664704543d-2119-1-c000.snappy.parquet\")"
      ],
      "metadata": {
        "id": "u8rAOKE6KllC"
      },
      "execution_count": 2,
      "outputs": []
    },
    {
      "cell_type": "markdown",
      "source": [
        "### Regroup Data\n",
        "Cardinality of `reviews_df` is at the _reviews level_. We are specfically interested in business features at the _business level_.\n",
        "\n",
        "Regroup data to the _business level_ and extract business features:\n"
      ],
      "metadata": {
        "id": "a29yprTxVfW4"
      }
    },
    {
      "cell_type": "code",
      "source": [
        "business_cols = reviews_df.columns[reviews_df.columns.str.startswith(\"business_\")]\n",
        "business_df = reviews_df[business_cols].groupby(\"business_id\").first()"
      ],
      "metadata": {
        "id": "lKnj4B05WfNV"
      },
      "execution_count": 3,
      "outputs": []
    },
    {
      "cell_type": "markdown",
      "source": [
        "### Target Variable\n",
        "Given Yelp dataset features, we are trying to whether `business_is_open`:\n",
        "- `0` This business has **closed**\n",
        "- `1` This business is still **open**.\n"
      ],
      "metadata": {
        "id": "HNFpUOjxTxQF"
      }
    },
    {
      "cell_type": "code",
      "source": [
        "target = \"business_is_open\"\n",
        "targets = business_df[target]\n",
        "features = business_df.columns[business_df.columns != target]\n",
        "feature_df = business_df[features]"
      ],
      "metadata": {
        "id": "o0pwEOlqUTMJ"
      },
      "execution_count": 4,
      "outputs": []
    },
    {
      "cell_type": "markdown",
      "source": [
        "### Split Dataset\n",
        "Split dataset into train and test subsets using stratified random sampling to ensure consistent target distribution on train / test subsets."
      ],
      "metadata": {
        "id": "QeSW-IJqdM1b"
      }
    },
    {
      "cell_type": "code",
      "source": [
        "train_feature_df, test_feature_df, train_targets, test_targets = train_test_split(\n",
        "    feature_df, targets, test_size=0.2, random_state=42, stratify=targets)"
      ],
      "metadata": {
        "id": "YZS9VCB_dRXD"
      },
      "execution_count": 5,
      "outputs": []
    },
    {
      "cell_type": "markdown",
      "source": [
        "### Transform for ML\n",
        "Apply transformations to data to convert it into a form suitable for Machine Learning."
      ],
      "metadata": {
        "id": "CAtP2iZtLuVm"
      }
    },
    {
      "cell_type": "markdown",
      "source": [
        "#### Target: Business Is Open\n",
        "Observed that our target `business_is_open` is heavily skewed towards open (1)\n",
        "businesses.\n"
      ],
      "metadata": {
        "id": "gzempXlkQQvS"
      }
    },
    {
      "cell_type": "code",
      "source": [
        "plt.title(\"business_is_open\")\n",
        "train_targets.value_counts().plot(kind=\"barh\")"
      ],
      "metadata": {
        "colab": {
          "base_uri": "https://localhost:8080/",
          "height": 475
        },
        "id": "3df09oiaN7sQ",
        "outputId": "5879a2a8-0692-44b1-cbda-b67f27773651"
      },
      "execution_count": 23,
      "outputs": [
        {
          "output_type": "execute_result",
          "data": {
            "text/plain": [
              "<Axes: title={'center': 'business_is_open'}>"
            ]
          },
          "metadata": {},
          "execution_count": 23
        },
        {
          "output_type": "display_data",
          "data": {
            "text/plain": [
              "<Figure size 640x480 with 1 Axes>"
            ],
            "image/png": "[encoded data removed]"
          },
          "metadata": {}
        }
      ]
    },
    {
      "cell_type": "markdown",
      "source": [
        "Correct for the class imbalance by randomly **undersampling** the majority class\n",
        "to match no. of samples in the minority class.\n"
      ],
      "metadata": {
        "id": "NSG4zgaHQ61S"
      }
    },
    {
      "cell_type": "code",
      "source": [
        "sampler = RandomUnderSampler(sampling_strategy=\"majority\", random_state=42)"
      ],
      "metadata": {
        "id": "EfnGRGDcSKGb"
      },
      "execution_count": 27,
      "outputs": []
    },
    {
      "cell_type": "markdown",
      "source": [
        "#### Business Rating\n",
        "`business_stars`\n",
        "- In Exploratory Data Analysis (EDA), we have observed that `business_stars` is right skewed, hence `np.exp2()` is applied to correct the skew.\n",
        "- `StandardScaler` is applied to normalise feature values to a range suitable for ML models."
      ],
      "metadata": {
        "id": "NKtzfqIjKvYP"
      }
    },
    {
      "cell_type": "code",
      "source": [
        "transform = ColumnTransformer(\n",
        "  transformers=[\n",
        "    (\"business_stars\", Pipeline(steps=[\n",
        "         (\"unskew_exp2\", FunctionTransformer(np.exp2)),\n",
        "         (\"scale\", StandardScaler()),\n",
        "    ]), [\"business_stars\"])\n",
        "  ]\n",
        ")"
      ],
      "metadata": {
        "id": "mLT4a8MqLRTv"
      },
      "execution_count": 58,
      "outputs": []
    },
    {
      "cell_type": "markdown",
      "source": [
        "# ML Modelling\n",
        "\n"
      ],
      "metadata": {
        "id": "44MgwS4SUhlu"
      }
    },
    {
      "cell_type": "markdown",
      "source": [
        "### ML Algorithms\n",
        "Models will be built from the following ML Algorithms:"
      ],
      "metadata": {
        "id": "DJPqzS4fU4u_"
      }
    },
    {
      "cell_type": "code",
      "source": [
        "models = [\n",
        "  LogisticRegression()\n",
        "]"
      ],
      "metadata": {
        "id": "yFPlmVvfU0Q4"
      },
      "execution_count": 59,
      "outputs": []
    },
    {
      "cell_type": "markdown",
      "source": [
        "### Model Evaluation\n",
        "Model evaluation be performed on the following metrics:\n",
        "- F1-score: Harmonic Mean of Precision and Recall\n",
        "- Precision\n",
        "- Recall\n",
        "- Accuracy\n",
        "\n",
        "Do to the presence of class imbalance, F1-score is choosen over Accuracy as the _core metric_ to benchmark Models for Model Selection."
      ],
      "metadata": {
        "id": "p7SXLM8eg-Dj"
      }
    },
    {
      "cell_type": "code",
      "source": [
        "metrics = [\n",
        "  \"f1\",\n",
        "  \"precision\",\n",
        "  \"recall\",\n",
        "  \"accuracy\",\n",
        "]"
      ],
      "metadata": {
        "id": "23Y7rInZM9lg"
      },
      "execution_count": 60,
      "outputs": []
    },
    {
      "cell_type": "markdown",
      "source": [
        "### Train & Evaluation Lifecycle\n",
        "Group data transformation, model training & evaluation steps into a single objective function:\n"
      ],
      "metadata": {
        "id": "LdytArvSMhBx"
      }
    },
    {
      "cell_type": "code",
      "source": [
        "def train_eval(model: BaseEstimator, feature_df: pd.DataFrame, targets: pd.Series) -> pd.DataFrame:\n",
        "  # group data transform & model steps in single pipeline\n",
        "  pipeline = Pipeline(\n",
        "    steps=[\n",
        "      (\"sample_data\", sampler),\n",
        "      (\"transform_data\", transform),\n",
        "      (\"model\", model),\n",
        "    ]\n",
        "  )\n",
        "\n",
        "  # train & evaluate model with metrics\n",
        "  results = cross_validate(\n",
        "      estimator=pipeline,\n",
        "      X=feature_df,\n",
        "      y=targets,\n",
        "      scoring=metrics,\n",
        "      cv=5,\n",
        "      return_train_score=True,\n",
        "      # cross validate on all CPU cores\n",
        "      n_jobs=-1,\n",
        "  )\n",
        "  return pd.DataFrame(results)"
      ],
      "metadata": {
        "id": "SKTLBuA5X5xS"
      },
      "execution_count": 61,
      "outputs": []
    },
    {
      "cell_type": "code",
      "source": [
        "train_eval(models[0], train_feature_df[-10:], train_targets[-10:])"
      ],
      "metadata": {
        "colab": {
          "base_uri": "https://localhost:8080/",
          "height": 260
        },
        "id": "kw8tprRzaQje",
        "outputId": "514e19a0-13ed-49b4-f239-b69415c0ac54"
      },
      "execution_count": 62,
      "outputs": [
        {
          "output_type": "stream",
          "name": "stderr",
          "text": [
            "/usr/local/lib/python3.10/dist-packages/sklearn/model_selection/_split.py:700: UserWarning: The least populated class in y has only 3 members, which is less than n_splits=5.\n",
            "  warnings.warn(\n"
          ]
        },
        {
          "output_type": "execute_result",
          "data": {
            "text/plain": [
              "   fit_time  score_time   test_f1  train_f1  test_precision  train_precision  \\\n",
              "0  0.040279    0.016568  0.000000       0.6             0.0         0.750000   \n",
              "1  0.036106    0.014802  0.666667       0.6             0.5         0.750000   \n",
              "2  0.019676    0.014651  0.000000       0.6             0.0         0.750000   \n",
              "3  0.018522    0.014292  0.666667       0.5             1.0         0.666667   \n",
              "4  0.012897    0.009539  0.666667       0.5             1.0         0.666667   \n",
              "\n",
              "   test_recall  train_recall  test_accuracy  train_accuracy  \n",
              "0          0.0           0.5            0.5             0.5  \n",
              "1          1.0           0.5            0.5             0.5  \n",
              "2          0.0           0.5            0.5             0.5  \n",
              "3          0.5           0.4            0.5             0.5  \n",
              "4          0.5           0.4            0.5             0.5  "
            ],
            "text/html": [
              "\n",
              "  <div id=\"df-264deb2b-9f81-4312-92c1-5239b5bf8c63\" class=\"colab-df-container\">\n",
              "    <div>\n",
              "<style scoped>\n",
              "    .dataframe tbody tr th:only-of-type {\n",
              "        vertical-align: middle;\n",
              "    }\n",
              "\n",
              "    .dataframe tbody tr th {\n",
              "        vertical-align: top;\n",
              "    }\n",
              "\n",
              "    .dataframe thead th {\n",
              "        text-align: right;\n",
              "    }\n",
              "</style>\n",
              "<table border=\"1\" class=\"dataframe\">\n",
              "  <thead>\n",
              "    <tr style=\"text-align: right;\">\n",
              "      <th></th>\n",
              "      <th>fit_time</th>\n",
              "      <th>score_time</th>\n",
              "      <th>test_f1</th>\n",
              "      <th>train_f1</th>\n",
              "      <th>test_precision</th>\n",
              "      <th>train_precision</th>\n",
              "      <th>test_recall</th>\n",
              "      <th>train_recall</th>\n",
              "      <th>test_accuracy</th>\n",
              "      <th>train_accuracy</th>\n",
              "    </tr>\n",
              "  </thead>\n",
              "  <tbody>\n",
              "    <tr>\n",
              "      <th>0</th>\n",
              "      <td>0.040279</td>\n",
              "      <td>0.016568</td>\n",
              "      <td>0.000000</td>\n",
              "      <td>0.6</td>\n",
              "      <td>0.0</td>\n",
              "      <td>0.750000</td>\n",
              "      <td>0.0</td>\n",
              "      <td>0.5</td>\n",
              "      <td>0.5</td>\n",
              "      <td>0.5</td>\n",
              "    </tr>\n",
              "    <tr>\n",
              "      <th>1</th>\n",
              "      <td>0.036106</td>\n",
              "      <td>0.014802</td>\n",
              "      <td>0.666667</td>\n",
              "      <td>0.6</td>\n",
              "      <td>0.5</td>\n",
              "      <td>0.750000</td>\n",
              "      <td>1.0</td>\n",
              "      <td>0.5</td>\n",
              "      <td>0.5</td>\n",
              "      <td>0.5</td>\n",
              "    </tr>\n",
              "    <tr>\n",
              "      <th>2</th>\n",
              "      <td>0.019676</td>\n",
              "      <td>0.014651</td>\n",
              "      <td>0.000000</td>\n",
              "      <td>0.6</td>\n",
              "      <td>0.0</td>\n",
              "      <td>0.750000</td>\n",
              "      <td>0.0</td>\n",
              "      <td>0.5</td>\n",
              "      <td>0.5</td>\n",
              "      <td>0.5</td>\n",
              "    </tr>\n",
              "    <tr>\n",
              "      <th>3</th>\n",
              "      <td>0.018522</td>\n",
              "      <td>0.014292</td>\n",
              "      <td>0.666667</td>\n",
              "      <td>0.5</td>\n",
              "      <td>1.0</td>\n",
              "      <td>0.666667</td>\n",
              "      <td>0.5</td>\n",
              "      <td>0.4</td>\n",
              "      <td>0.5</td>\n",
              "      <td>0.5</td>\n",
              "    </tr>\n",
              "    <tr>\n",
              "      <th>4</th>\n",
              "      <td>0.012897</td>\n",
              "      <td>0.009539</td>\n",
              "      <td>0.666667</td>\n",
              "      <td>0.5</td>\n",
              "      <td>1.0</td>\n",
              "      <td>0.666667</td>\n",
              "      <td>0.5</td>\n",
              "      <td>0.4</td>\n",
              "      <td>0.5</td>\n",
              "      <td>0.5</td>\n",
              "    </tr>\n",
              "  </tbody>\n",
              "</table>\n",
              "</div>\n",
              "    <div class=\"colab-df-buttons\">\n",
              "\n",
              "  <div class=\"colab-df-container\">\n",
              "    <button class=\"colab-df-convert\" onclick=\"convertToInteractive('df-264deb2b-9f81-4312-92c1-5239b5bf8c63')\"\n",
              "            title=\"Convert this dataframe to an interactive table.\"\n",
              "            style=\"display:none;\">\n",
              "\n",
              "  <svg xmlns=\"http://www.w3.org/2000/svg\" height=\"24px\" viewBox=\"0 -960 960 960\">\n",
              "    <path d=\"M120-120v-720h720v720H120Zm60-500h600v-160H180v160Zm220 220h160v-160H400v160Zm0 220h160v-160H400v160ZM180-400h160v-160H180v160Zm440 0h160v-160H620v160ZM180-180h160v-160H180v160Zm440 0h160v-160H620v160Z\"/>\n",
              "  </svg>\n",
              "    </button>\n",
              "\n",
              "  <style>\n",
              "    .colab-df-container {\n",
              "      display:flex;\n",
              "      gap: 12px;\n",
              "    }\n",
              "\n",
              "    .colab-df-convert {\n",
              "      background-color: #E8F0FE;\n",
              "      border: none;\n",
              "      border-radius: 50%;\n",
              "      cursor: pointer;\n",
              "      display: none;\n",
              "      fill: #1967D2;\n",
              "      height: 32px;\n",
              "      padding: 0 0 0 0;\n",
              "      width: 32px;\n",
              "    }\n",
              "\n",
              "    .colab-df-convert:hover {\n",
              "      background-color: #E2EBFA;\n",
              "      box-shadow: 0px 1px 2px rgba(60, 64, 67, 0.3), 0px 1px 3px 1px rgba(60, 64, 67, 0.15);\n",
              "      fill: #174EA6;\n",
              "    }\n",
              "\n",
              "    .colab-df-buttons div {\n",
              "      margin-bottom: 4px;\n",
              "    }\n",
              "\n",
              "    [theme=dark] .colab-df-convert {\n",
              "      background-color: #3B4455;\n",
              "      fill: #D2E3FC;\n",
              "    }\n",
              "\n",
              "    [theme=dark] .colab-df-convert:hover {\n",
              "      background-color: #434B5C;\n",
              "      box-shadow: 0px 1px 3px 1px rgba(0, 0, 0, 0.15);\n",
              "      filter: drop-shadow(0px 1px 2px rgba(0, 0, 0, 0.3));\n",
              "      fill: #FFFFFF;\n",
              "    }\n",
              "  </style>\n",
              "\n",
              "    <script>\n",
              "      const buttonEl =\n",
              "        document.querySelector('#df-264deb2b-9f81-4312-92c1-5239b5bf8c63 button.colab-df-convert');\n",
              "      buttonEl.style.display =\n",
              "        google.colab.kernel.accessAllowed ? 'block' : 'none';\n",
              "\n",
              "      async function convertToInteractive(key) {\n",
              "        const element = document.querySelector('#df-264deb2b-9f81-4312-92c1-5239b5bf8c63');\n",
              "        const dataTable =\n",
              "          await google.colab.kernel.invokeFunction('convertToInteractive',\n",
              "                                                    [key], {});\n",
              "        if (!dataTable) return;\n",
              "\n",
              "        const docLinkHtml = 'Like what you see? Visit the ' +\n",
              "          '<a target=\"_blank\" href=https://colab.research.google.com/notebooks/data_table.ipynb>data table notebook</a>'\n",
              "          + ' to learn more about interactive tables.';\n",
              "        element.innerHTML = '';\n",
              "        dataTable['output_type'] = 'display_data';\n",
              "        await google.colab.output.renderOutput(dataTable, element);\n",
              "        const docLink = document.createElement('div');\n",
              "        docLink.innerHTML = docLinkHtml;\n",
              "        element.appendChild(docLink);\n",
              "      }\n",
              "    </script>\n",
              "  </div>\n",
              "\n",
              "\n",
              "<div id=\"df-0b757980-16e6-4b2a-a925-815489360df8\">\n",
              "  <button class=\"colab-df-quickchart\" onclick=\"quickchart('df-0b757980-16e6-4b2a-a925-815489360df8')\"\n",
              "            title=\"Suggest charts\"\n",
              "            style=\"display:none;\">\n",
              "\n",
              "<svg xmlns=\"http://www.w3.org/2000/svg\" height=\"24px\"viewBox=\"0 0 24 24\"\n",
              "     width=\"24px\">\n",
              "    <g>\n",
              "        <path d=\"M19 3H5c-1.1 0-2 .9-2 2v14c0 1.1.9 2 2 2h14c1.1 0 2-.9 2-2V5c0-1.1-.9-2-2-2zM9 17H7v-7h2v7zm4 0h-2V7h2v10zm4 0h-2v-4h2v4z\"/>\n",
              "    </g>\n",
              "</svg>\n",
              "  </button>\n",
              "\n",
              "<style>\n",
              "  .colab-df-quickchart {\n",
              "      --bg-color: #E8F0FE;\n",
              "      --fill-color: #1967D2;\n",
              "      --hover-bg-color: #E2EBFA;\n",
              "      --hover-fill-color: #174EA6;\n",
              "      --disabled-fill-color: #AAA;\n",
              "      --disabled-bg-color: #DDD;\n",
              "  }\n",
              "\n",
              "  [theme=dark] .colab-df-quickchart {\n",
              "      --bg-color: #3B4455;\n",
              "      --fill-color: #D2E3FC;\n",
              "      --hover-bg-color: #434B5C;\n",
              "      --hover-fill-color: #FFFFFF;\n",
              "      --disabled-bg-color: #3B4455;\n",
              "      --disabled-fill-color: #666;\n",
              "  }\n",
              "\n",
              "  .colab-df-quickchart {\n",
              "    background-color: var(--bg-color);\n",
              "    border: none;\n",
              "    border-radius: 50%;\n",
              "    cursor: pointer;\n",
              "    display: none;\n",
              "    fill: var(--fill-color);\n",
              "    height: 32px;\n",
              "    padding: 0;\n",
              "    width: 32px;\n",
              "  }\n",
              "\n",
              "  .colab-df-quickchart:hover {\n",
              "    background-color: var(--hover-bg-color);\n",
              "    box-shadow: 0 1px 2px rgba(60, 64, 67, 0.3), 0 1px 3px 1px rgba(60, 64, 67, 0.15);\n",
              "    fill: var(--button-hover-fill-color);\n",
              "  }\n",
              "\n",
              "  .colab-df-quickchart-complete:disabled,\n",
              "  .colab-df-quickchart-complete:disabled:hover {\n",
              "    background-color: var(--disabled-bg-color);\n",
              "    fill: var(--disabled-fill-color);\n",
              "    box-shadow: none;\n",
              "  }\n",
              "\n",
              "  .colab-df-spinner {\n",
              "    border: 2px solid var(--fill-color);\n",
              "    border-color: transparent;\n",
              "    border-bottom-color: var(--fill-color);\n",
              "    animation:\n",
              "      spin 1s steps(1) infinite;\n",
              "  }\n",
              "\n",
              "  @keyframes spin {\n",
              "    0% {\n",
              "      border-color: transparent;\n",
              "      border-bottom-color: var(--fill-color);\n",
              "      border-left-color: var(--fill-color);\n",
              "    }\n",
              "    20% {\n",
              "      border-color: transparent;\n",
              "      border-left-color: var(--fill-color);\n",
              "      border-top-color: var(--fill-color);\n",
              "    }\n",
              "    30% {\n",
              "      border-color: transparent;\n",
              "      border-left-color: var(--fill-color);\n",
              "      border-top-color: var(--fill-color);\n",
              "      border-right-color: var(--fill-color);\n",
              "    }\n",
              "    40% {\n",
              "      border-color: transparent;\n",
              "      border-right-color: var(--fill-color);\n",
              "      border-top-color: var(--fill-color);\n",
              "    }\n",
              "    60% {\n",
              "      border-color: transparent;\n",
              "      border-right-color: var(--fill-color);\n",
              "    }\n",
              "    80% {\n",
              "      border-color: transparent;\n",
              "      border-right-color: var(--fill-color);\n",
              "      border-bottom-color: var(--fill-color);\n",
              "    }\n",
              "    90% {\n",
              "      border-color: transparent;\n",
              "      border-bottom-color: var(--fill-color);\n",
              "    }\n",
              "  }\n",
              "</style>\n",
              "\n",
              "  <script>\n",
              "    async function quickchart(key) {\n",
              "      const quickchartButtonEl =\n",
              "        document.querySelector('#' + key + ' button');\n",
              "      quickchartButtonEl.disabled = true;  // To prevent multiple clicks.\n",
              "      quickchartButtonEl.classList.add('colab-df-spinner');\n",
              "      try {\n",
              "        const charts = await google.colab.kernel.invokeFunction(\n",
              "            'suggestCharts', [key], {});\n",
              "      } catch (error) {\n",
              "        console.error('Error during call to suggestCharts:', error);\n",
              "      }\n",
              "      quickchartButtonEl.classList.remove('colab-df-spinner');\n",
              "      quickchartButtonEl.classList.add('colab-df-quickchart-complete');\n",
              "    }\n",
              "    (() => {\n",
              "      let quickchartButtonEl =\n",
              "        document.querySelector('#df-0b757980-16e6-4b2a-a925-815489360df8 button');\n",
              "      quickchartButtonEl.style.display =\n",
              "        google.colab.kernel.accessAllowed ? 'block' : 'none';\n",
              "    })();\n",
              "  </script>\n",
              "</div>\n",
              "\n",
              "    </div>\n",
              "  </div>\n"
            ],
            "application/vnd.google.colaboratory.intrinsic+json": {
              "type": "dataframe",
              "summary": "{\n  \"name\": \"train_eval(models[0], train_feature_df[-10:], train_targets[-10:])\",\n  \"rows\": 5,\n  \"fields\": [\n    {\n      \"column\": \"fit_time\",\n      \"properties\": {\n        \"dtype\": \"number\",\n        \"std\": 0.011961815415848594,\n        \"min\": 0.012897491455078125,\n        \"max\": 0.04027915000915527,\n        \"num_unique_values\": 5,\n        \"samples\": [\n          0.03610563278198242,\n          0.012897491455078125,\n          0.019675731658935547\n        ],\n        \"semantic_type\": \"\",\n        \"description\": \"\"\n      }\n    },\n    {\n      \"column\": \"score_time\",\n      \"properties\": {\n        \"dtype\": \"number\",\n        \"std\": 0.0026287725997956057,\n        \"min\": 0.009539365768432617,\n        \"max\": 0.016568422317504883,\n        \"num_unique_values\": 5,\n        \"samples\": [\n          0.014802217483520508,\n          0.009539365768432617,\n          0.014650583267211914\n        ],\n        \"semantic_type\": \"\",\n        \"description\": \"\"\n      }\n    },\n    {\n      \"column\": \"test_f1\",\n      \"properties\": {\n        \"dtype\": \"number\",\n        \"std\": 0.3651483716701107,\n        \"min\": 0.0,\n        \"max\": 0.6666666666666666,\n        \"num_unique_values\": 2,\n        \"samples\": [\n          0.6666666666666666,\n          0.0\n        ],\n        \"semantic_type\": \"\",\n        \"description\": \"\"\n      }\n    },\n    {\n      \"column\": \"train_f1\",\n      \"properties\": {\n        \"dtype\": \"number\",\n        \"std\": 0.0547722557505166,\n        \"min\": 0.5,\n        \"max\": 0.6,\n        \"num_unique_values\": 2,\n        \"samples\": [\n          0.5,\n          0.6\n        ],\n        \"semantic_type\": \"\",\n        \"description\": \"\"\n      }\n    },\n    {\n      \"column\": \"test_precision\",\n      \"properties\": {\n        \"dtype\": \"number\",\n        \"std\": 0.5,\n        \"min\": 0.0,\n        \"max\": 1.0,\n        \"num_unique_values\": 3,\n        \"samples\": [\n          0.0,\n          0.5\n        ],\n        \"semantic_type\": \"\",\n        \"description\": \"\"\n      }\n    },\n    {\n      \"column\": \"train_precision\",\n      \"properties\": {\n        \"dtype\": \"number\",\n        \"std\": 0.04564354645876387,\n        \"min\": 0.6666666666666666,\n        \"max\": 0.75,\n        \"num_unique_values\": 2,\n        \"samples\": [\n          0.6666666666666666,\n          0.75\n        ],\n        \"semantic_type\": \"\",\n        \"description\": \"\"\n      }\n    },\n    {\n      \"column\": \"test_recall\",\n      \"properties\": {\n        \"dtype\": \"number\",\n        \"std\": 0.4183300132670378,\n        \"min\": 0.0,\n        \"max\": 1.0,\n        \"num_unique_values\": 3,\n        \"samples\": [\n          0.0,\n          1.0\n        ],\n        \"semantic_type\": \"\",\n        \"description\": \"\"\n      }\n    },\n    {\n      \"column\": \"train_recall\",\n      \"properties\": {\n        \"dtype\": \"number\",\n        \"std\": 0.0547722557505166,\n        \"min\": 0.4,\n        \"max\": 0.5,\n        \"num_unique_values\": 2,\n        \"samples\": [\n          0.4,\n          0.5\n        ],\n        \"semantic_type\": \"\",\n        \"description\": \"\"\n      }\n    },\n    {\n      \"column\": \"test_accuracy\",\n      \"properties\": {\n        \"dtype\": \"number\",\n        \"std\": 0.0,\n        \"min\": 0.5,\n        \"max\": 0.5,\n        \"num_unique_values\": 1,\n        \"samples\": [\n          0.5\n        ],\n        \"semantic_type\": \"\",\n        \"description\": \"\"\n      }\n    },\n    {\n      \"column\": \"train_accuracy\",\n      \"properties\": {\n        \"dtype\": \"number\",\n        \"std\": 0.0,\n        \"min\": 0.5,\n        \"max\": 0.5,\n        \"num_unique_values\": 1,\n        \"samples\": [\n          0.5\n        ],\n        \"semantic_type\": \"\",\n        \"description\": \"\"\n      }\n    }\n  ]\n}"
            }
          },
          "metadata": {},
          "execution_count": 62
        }
      ]
    }
  ]
}